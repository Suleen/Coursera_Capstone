{
 "cells": [
  {
   "cell_type": "code",
   "execution_count": 3,
   "metadata": {},
   "outputs": [
    {
     "name": "stdout",
     "output_type": "stream",
     "text": [
      "Collecting package metadata (current_repodata.json): done\n",
      "Solving environment: done\n",
      "\n",
      "# All requested packages already installed.\n",
      "\n",
      "Collecting package metadata (current_repodata.json): done\n",
      "Solving environment: done\n",
      "\n",
      "# All requested packages already installed.\n",
      "\n",
      "Libraries imported.\n"
     ]
    }
   ],
   "source": [
    "import numpy as np # library to handle data in a vectorized manner\n",
    "\n",
    "import pandas as pd # library for data analsysis\n",
    "pd.set_option('display.max_columns', None)\n",
    "pd.set_option('display.max_rows', None)\n",
    "\n",
    "import json # library to handle JSON files\n",
    "\n",
    "!conda install -c conda-forge geopy --yes # uncomment this line if you haven't completed the Foursquare API lab\n",
    "from geopy.geocoders import Nominatim # convert an address into latitude and longitude values\n",
    "\n",
    "import requests # library to handle requests\n",
    "from pandas.io.json import json_normalize # tranform JSON file into a pandas dataframe\n",
    "\n",
    "# Matplotlib and associated plotting modules\n",
    "import matplotlib.cm as cm\n",
    "import matplotlib.colors as colors\n",
    "\n",
    "# import k-means from clustering stage\n",
    "from sklearn.cluster import KMeans\n",
    "\n",
    "!conda install -c conda-forge folium=0.5.0 --yes # uncomment this line if you haven't completed the Foursquare API lab\n",
    "import folium # map rendering library\n",
    "\n",
    "print('Libraries imported.')"
   ]
  },
  {
   "cell_type": "code",
   "execution_count": 4,
   "metadata": {},
   "outputs": [],
   "source": [
    "from IPython.core.interactiveshell import InteractiveShell\n",
    "InteractiveShell.ast_node_interactivity = \"all\""
   ]
  },
  {
   "cell_type": "code",
   "execution_count": 5,
   "metadata": {},
   "outputs": [
    {
     "name": "stdout",
     "output_type": "stream",
     "text": [
      "Requirement already satisfied: geocoder in /home/jupyterlab/conda/envs/python/lib/python3.6/site-packages (1.38.1)\n",
      "Requirement already satisfied: ratelim in /home/jupyterlab/conda/envs/python/lib/python3.6/site-packages (from geocoder) (0.1.6)\n",
      "Requirement already satisfied: six in /home/jupyterlab/conda/envs/python/lib/python3.6/site-packages (from geocoder) (1.15.0)\n",
      "Requirement already satisfied: future in /home/jupyterlab/conda/envs/python/lib/python3.6/site-packages (from geocoder) (0.18.2)\n",
      "Requirement already satisfied: click in /home/jupyterlab/conda/envs/python/lib/python3.6/site-packages (from geocoder) (7.1.2)\n",
      "Requirement already satisfied: requests in /home/jupyterlab/conda/envs/python/lib/python3.6/site-packages (from geocoder) (2.24.0)\n",
      "Requirement already satisfied: decorator in /home/jupyterlab/conda/envs/python/lib/python3.6/site-packages (from ratelim->geocoder) (4.4.2)\n",
      "Requirement already satisfied: idna<3,>=2.5 in /home/jupyterlab/conda/envs/python/lib/python3.6/site-packages (from requests->geocoder) (2.10)\n",
      "Requirement already satisfied: certifi>=2017.4.17 in /home/jupyterlab/conda/envs/python/lib/python3.6/site-packages (from requests->geocoder) (2020.6.20)\n",
      "Requirement already satisfied: urllib3!=1.25.0,!=1.25.1,<1.26,>=1.21.1 in /home/jupyterlab/conda/envs/python/lib/python3.6/site-packages (from requests->geocoder) (1.25.10)\n",
      "Requirement already satisfied: chardet<4,>=3.0.2 in /home/jupyterlab/conda/envs/python/lib/python3.6/site-packages (from requests->geocoder) (3.0.4)\n"
     ]
    }
   ],
   "source": [
    "import sys\n",
    "!{sys.executable} -m pip install geocoder"
   ]
  },
  {
   "cell_type": "code",
   "execution_count": 6,
   "metadata": {},
   "outputs": [
    {
     "data": {
      "text/html": [
       "<div>\n",
       "<style scoped>\n",
       "    .dataframe tbody tr th:only-of-type {\n",
       "        vertical-align: middle;\n",
       "    }\n",
       "\n",
       "    .dataframe tbody tr th {\n",
       "        vertical-align: top;\n",
       "    }\n",
       "\n",
       "    .dataframe thead th {\n",
       "        text-align: right;\n",
       "    }\n",
       "</style>\n",
       "<table border=\"1\" class=\"dataframe\">\n",
       "  <thead>\n",
       "    <tr style=\"text-align: right;\">\n",
       "      <th></th>\n",
       "      <th>Unnamed: 0</th>\n",
       "      <th>Borough</th>\n",
       "      <th>Neighborhood</th>\n",
       "      <th>latitude</th>\n",
       "      <th>longitude</th>\n",
       "    </tr>\n",
       "  </thead>\n",
       "  <tbody>\n",
       "    <tr>\n",
       "      <th>0</th>\n",
       "      <td>0</td>\n",
       "      <td>North West Delhi</td>\n",
       "      <td>Adarsh Nagar</td>\n",
       "      <td>28.614192</td>\n",
       "      <td>77.071541</td>\n",
       "    </tr>\n",
       "    <tr>\n",
       "      <th>1</th>\n",
       "      <td>1</td>\n",
       "      <td>North West Delhi</td>\n",
       "      <td>Ashok Vihar</td>\n",
       "      <td>28.699453</td>\n",
       "      <td>77.184826</td>\n",
       "    </tr>\n",
       "    <tr>\n",
       "      <th>2</th>\n",
       "      <td>2</td>\n",
       "      <td>North West Delhi</td>\n",
       "      <td>Azadpur</td>\n",
       "      <td>28.707657</td>\n",
       "      <td>77.175547</td>\n",
       "    </tr>\n",
       "    <tr>\n",
       "      <th>3</th>\n",
       "      <td>3</td>\n",
       "      <td>North West Delhi</td>\n",
       "      <td>Bawana</td>\n",
       "      <td>28.799660</td>\n",
       "      <td>77.032885</td>\n",
       "    </tr>\n",
       "    <tr>\n",
       "      <th>4</th>\n",
       "      <td>4</td>\n",
       "      <td>North West Delhi</td>\n",
       "      <td>Begum Pur</td>\n",
       "      <td>NaN</td>\n",
       "      <td>NaN</td>\n",
       "    </tr>\n",
       "  </tbody>\n",
       "</table>\n",
       "</div>"
      ],
      "text/plain": [
       "   Unnamed: 0           Borough  Neighborhood   latitude  longitude\n",
       "0           0  North West Delhi  Adarsh Nagar  28.614192  77.071541\n",
       "1           1  North West Delhi   Ashok Vihar  28.699453  77.184826\n",
       "2           2  North West Delhi       Azadpur  28.707657  77.175547\n",
       "3           3  North West Delhi        Bawana  28.799660  77.032885\n",
       "4           4  North West Delhi     Begum Pur        NaN        NaN"
      ]
     },
     "execution_count": 6,
     "metadata": {},
     "output_type": "execute_result"
    },
    {
     "data": {
      "text/plain": [
       "(185, 5)"
      ]
     },
     "execution_count": 6,
     "metadata": {},
     "output_type": "execute_result"
    },
    {
     "data": {
      "text/plain": [
       "(163, 5)"
      ]
     },
     "execution_count": 6,
     "metadata": {},
     "output_type": "execute_result"
    },
    {
     "data": {
      "text/html": [
       "<div>\n",
       "<style scoped>\n",
       "    .dataframe tbody tr th:only-of-type {\n",
       "        vertical-align: middle;\n",
       "    }\n",
       "\n",
       "    .dataframe tbody tr th {\n",
       "        vertical-align: top;\n",
       "    }\n",
       "\n",
       "    .dataframe thead th {\n",
       "        text-align: right;\n",
       "    }\n",
       "</style>\n",
       "<table border=\"1\" class=\"dataframe\">\n",
       "  <thead>\n",
       "    <tr style=\"text-align: right;\">\n",
       "      <th></th>\n",
       "      <th>Borough</th>\n",
       "      <th>Neighborhood</th>\n",
       "      <th>latitude</th>\n",
       "      <th>longitude</th>\n",
       "    </tr>\n",
       "  </thead>\n",
       "  <tbody>\n",
       "    <tr>\n",
       "      <th>0</th>\n",
       "      <td>North West Delhi</td>\n",
       "      <td>Adarsh Nagar</td>\n",
       "      <td>28.614192</td>\n",
       "      <td>77.071541</td>\n",
       "    </tr>\n",
       "    <tr>\n",
       "      <th>1</th>\n",
       "      <td>North West Delhi</td>\n",
       "      <td>Ashok Vihar</td>\n",
       "      <td>28.699453</td>\n",
       "      <td>77.184826</td>\n",
       "    </tr>\n",
       "    <tr>\n",
       "      <th>2</th>\n",
       "      <td>North West Delhi</td>\n",
       "      <td>Azadpur</td>\n",
       "      <td>28.707657</td>\n",
       "      <td>77.175547</td>\n",
       "    </tr>\n",
       "    <tr>\n",
       "      <th>3</th>\n",
       "      <td>North West Delhi</td>\n",
       "      <td>Bawana</td>\n",
       "      <td>28.799660</td>\n",
       "      <td>77.032885</td>\n",
       "    </tr>\n",
       "    <tr>\n",
       "      <th>6</th>\n",
       "      <td>North West Delhi</td>\n",
       "      <td>Jahangirpuri</td>\n",
       "      <td>28.725972</td>\n",
       "      <td>77.162658</td>\n",
       "    </tr>\n",
       "  </tbody>\n",
       "</table>\n",
       "</div>"
      ],
      "text/plain": [
       "            Borough  Neighborhood   latitude  longitude\n",
       "0  North West Delhi  Adarsh Nagar  28.614192  77.071541\n",
       "1  North West Delhi   Ashok Vihar  28.699453  77.184826\n",
       "2  North West Delhi       Azadpur  28.707657  77.175547\n",
       "3  North West Delhi        Bawana  28.799660  77.032885\n",
       "6  North West Delhi  Jahangirpuri  28.725972  77.162658"
      ]
     },
     "execution_count": 6,
     "metadata": {},
     "output_type": "execute_result"
    }
   ],
   "source": [
    "#Create data frame with the Delhi data\n",
    "import pandas as pd\n",
    "df1 = pd.read_csv('/resources/labs/DP0701EN/datasets_512081_944688_delhi_dataSet.csv')\n",
    "df1.head()\n",
    "df1.shape\n",
    "df2 = df1.dropna()\n",
    "df2.shape\n",
    "# df2.head()\n",
    "df3 = df2[['Borough', 'Neighborhood', 'latitude', 'longitude']]\n",
    "# df3.head()\n",
    "# df3.dtypes\n",
    "df4 = df3[(df3['latitude']>0) & (df3['longitude']>0)]\n",
    "# df4\n",
    "neighborhoods = df4\n",
    "neighborhoods.head()\n",
    "# neighborhoods['latitude']\n",
    "# df4 = df3[df3['Neighborhood'] == 'Adarsh Nagar']\n",
    "# df3.iloc[4,3]\n",
    "# df4 = df3[df3['longitude']>0]\n",
    "# df4.head()\n",
    "# df5 = df4[df4['latitude']>0]\n",
    "# df5.head()"
   ]
  },
  {
   "cell_type": "code",
   "execution_count": 7,
   "metadata": {},
   "outputs": [
    {
     "name": "stdout",
     "output_type": "stream",
     "text": [
      "The dataframe has 9 boroughs and 153 neighborhoods.\n"
     ]
    }
   ],
   "source": [
    "print('The dataframe has {} boroughs and {} neighborhoods.'.format(\n",
    "        len(neighborhoods['Borough'].unique()),\n",
    "        neighborhoods.shape[0]\n",
    "    )\n",
    ")"
   ]
  },
  {
   "cell_type": "code",
   "execution_count": 8,
   "metadata": {},
   "outputs": [
    {
     "name": "stdout",
     "output_type": "stream",
     "text": [
      "New Delhi, Delhi, India\n",
      "The geograpical coordinates of New Delhi are 28.6138954, 77.2090057.\n"
     ]
    }
   ],
   "source": [
    "address = 'New Delhi, India'\n",
    "\n",
    "geolocator = Nominatim(user_agent=\"trnt_explorer\")\n",
    "location = geolocator.geocode(address)\n",
    "print(location)\n",
    "latitude = location.latitude\n",
    "longitude = location.longitude\n",
    "print('The geograpical coordinates of New Delhi are {}, {}.'.format(latitude, longitude))"
   ]
  },
  {
   "cell_type": "code",
   "execution_count": 9,
   "metadata": {},
   "outputs": [
    {
     "data": {
      "text/plain": [
       "<folium.features.CircleMarker at 0x7f680020cda0>"
      ]
     },
     "execution_count": 9,
     "metadata": {},
     "output_type": "execute_result"
    },
    {
     "data": {
      "text/plain": [
       "<folium.features.CircleMarker at 0x7f680020c6d8>"
      ]
     },
     "execution_count": 9,
     "metadata": {},
     "output_type": "execute_result"
    },
    {
     "data": {
      "text/plain": [
       "<folium.features.CircleMarker at 0x7f6800207278>"
      ]
     },
     "execution_count": 9,
     "metadata": {},
     "output_type": "execute_result"
    },
    {
     "data": {
      "text/plain": [
       "<folium.features.CircleMarker at 0x7f68002076a0>"
      ]
     },
     "execution_count": 9,
     "metadata": {},
     "output_type": "execute_result"
    },
    {
     "data": {
      "text/plain": [
       "<folium.features.CircleMarker at 0x7f6800207240>"
      ]
     },
     "execution_count": 9,
     "metadata": {},
     "output_type": "execute_result"
    },
    {
     "data": {
      "text/plain": [
       "<folium.features.CircleMarker at 0x7f6800207b70>"
      ]
     },
     "execution_count": 9,
     "metadata": {},
     "output_type": "execute_result"
    },
    {
     "data": {
      "text/plain": [
       "<folium.features.CircleMarker at 0x7f6800218898>"
      ]
     },
     "execution_count": 9,
     "metadata": {},
     "output_type": "execute_result"
    },
    {
     "data": {
      "text/plain": [
       "<folium.features.CircleMarker at 0x7f6800218da0>"
      ]
     },
     "execution_count": 9,
     "metadata": {},
     "output_type": "execute_result"
    },
    {
     "data": {
      "text/plain": [
       "<folium.features.CircleMarker at 0x7f6800207748>"
      ]
     },
     "execution_count": 9,
     "metadata": {},
     "output_type": "execute_result"
    },
    {
     "data": {
      "text/plain": [
       "<folium.features.CircleMarker at 0x7f68002070f0>"
      ]
     },
     "execution_count": 9,
     "metadata": {},
     "output_type": "execute_result"
    },
    {
     "data": {
      "text/plain": [
       "<folium.features.CircleMarker at 0x7f6800218668>"
      ]
     },
     "execution_count": 9,
     "metadata": {},
     "output_type": "execute_result"
    },
    {
     "data": {
      "text/plain": [
       "<folium.features.CircleMarker at 0x7f68002184a8>"
      ]
     },
     "execution_count": 9,
     "metadata": {},
     "output_type": "execute_result"
    },
    {
     "data": {
      "text/plain": [
       "<folium.features.CircleMarker at 0x7f68002187b8>"
      ]
     },
     "execution_count": 9,
     "metadata": {},
     "output_type": "execute_result"
    },
    {
     "data": {
      "text/plain": [
       "<folium.features.CircleMarker at 0x7f68002070b8>"
      ]
     },
     "execution_count": 9,
     "metadata": {},
     "output_type": "execute_result"
    },
    {
     "data": {
      "text/plain": [
       "<folium.features.CircleMarker at 0x7f6800235780>"
      ]
     },
     "execution_count": 9,
     "metadata": {},
     "output_type": "execute_result"
    },
    {
     "data": {
      "text/plain": [
       "<folium.features.CircleMarker at 0x7f68002359b0>"
      ]
     },
     "execution_count": 9,
     "metadata": {},
     "output_type": "execute_result"
    },
    {
     "data": {
      "text/plain": [
       "<folium.features.CircleMarker at 0x7f6800235898>"
      ]
     },
     "execution_count": 9,
     "metadata": {},
     "output_type": "execute_result"
    },
    {
     "data": {
      "text/plain": [
       "<folium.features.CircleMarker at 0x7f68002353c8>"
      ]
     },
     "execution_count": 9,
     "metadata": {},
     "output_type": "execute_result"
    },
    {
     "data": {
      "text/plain": [
       "<folium.features.CircleMarker at 0x7f6800218cf8>"
      ]
     },
     "execution_count": 9,
     "metadata": {},
     "output_type": "execute_result"
    },
    {
     "data": {
      "text/plain": [
       "<folium.features.CircleMarker at 0x7f6800235dd8>"
      ]
     },
     "execution_count": 9,
     "metadata": {},
     "output_type": "execute_result"
    },
    {
     "data": {
      "text/plain": [
       "<folium.features.CircleMarker at 0x7f680022f128>"
      ]
     },
     "execution_count": 9,
     "metadata": {},
     "output_type": "execute_result"
    },
    {
     "data": {
      "text/plain": [
       "<folium.features.CircleMarker at 0x7f680022f8d0>"
      ]
     },
     "execution_count": 9,
     "metadata": {},
     "output_type": "execute_result"
    },
    {
     "data": {
      "text/plain": [
       "<folium.features.CircleMarker at 0x7f680022fb38>"
      ]
     },
     "execution_count": 9,
     "metadata": {},
     "output_type": "execute_result"
    },
    {
     "data": {
      "text/plain": [
       "<folium.features.CircleMarker at 0x7f680022f470>"
      ]
     },
     "execution_count": 9,
     "metadata": {},
     "output_type": "execute_result"
    },
    {
     "data": {
      "text/plain": [
       "<folium.features.CircleMarker at 0x7f6800235d68>"
      ]
     },
     "execution_count": 9,
     "metadata": {},
     "output_type": "execute_result"
    },
    {
     "data": {
      "text/plain": [
       "<folium.features.CircleMarker at 0x7f6800235048>"
      ]
     },
     "execution_count": 9,
     "metadata": {},
     "output_type": "execute_result"
    },
    {
     "data": {
      "text/plain": [
       "<folium.features.CircleMarker at 0x7f68001bf978>"
      ]
     },
     "execution_count": 9,
     "metadata": {},
     "output_type": "execute_result"
    },
    {
     "data": {
      "text/plain": [
       "<folium.features.CircleMarker at 0x7f68001bf198>"
      ]
     },
     "execution_count": 9,
     "metadata": {},
     "output_type": "execute_result"
    },
    {
     "data": {
      "text/plain": [
       "<folium.features.CircleMarker at 0x7f68001bff28>"
      ]
     },
     "execution_count": 9,
     "metadata": {},
     "output_type": "execute_result"
    },
    {
     "data": {
      "text/plain": [
       "<folium.features.CircleMarker at 0x7f68001f7dd8>"
      ]
     },
     "execution_count": 9,
     "metadata": {},
     "output_type": "execute_result"
    },
    {
     "data": {
      "text/plain": [
       "<folium.features.CircleMarker at 0x7f68001bfcc0>"
      ]
     },
     "execution_count": 9,
     "metadata": {},
     "output_type": "execute_result"
    },
    {
     "data": {
      "text/plain": [
       "<folium.features.CircleMarker at 0x7f68001bf908>"
      ]
     },
     "execution_count": 9,
     "metadata": {},
     "output_type": "execute_result"
    },
    {
     "data": {
      "text/plain": [
       "<folium.features.CircleMarker at 0x7f68001f7588>"
      ]
     },
     "execution_count": 9,
     "metadata": {},
     "output_type": "execute_result"
    },
    {
     "data": {
      "text/plain": [
       "<folium.features.CircleMarker at 0x7f68001f76a0>"
      ]
     },
     "execution_count": 9,
     "metadata": {},
     "output_type": "execute_result"
    },
    {
     "data": {
      "text/plain": [
       "<folium.features.CircleMarker at 0x7f68001f7f28>"
      ]
     },
     "execution_count": 9,
     "metadata": {},
     "output_type": "execute_result"
    },
    {
     "data": {
      "text/plain": [
       "<folium.features.CircleMarker at 0x7f68001f7ac8>"
      ]
     },
     "execution_count": 9,
     "metadata": {},
     "output_type": "execute_result"
    },
    {
     "data": {
      "text/plain": [
       "<folium.features.CircleMarker at 0x7f68001bfd68>"
      ]
     },
     "execution_count": 9,
     "metadata": {},
     "output_type": "execute_result"
    },
    {
     "data": {
      "text/plain": [
       "<folium.features.CircleMarker at 0x7f68001bf630>"
      ]
     },
     "execution_count": 9,
     "metadata": {},
     "output_type": "execute_result"
    },
    {
     "data": {
      "text/plain": [
       "<folium.features.CircleMarker at 0x7f68001be3c8>"
      ]
     },
     "execution_count": 9,
     "metadata": {},
     "output_type": "execute_result"
    },
    {
     "data": {
      "text/plain": [
       "<folium.features.CircleMarker at 0x7f68001be198>"
      ]
     },
     "execution_count": 9,
     "metadata": {},
     "output_type": "execute_result"
    },
    {
     "data": {
      "text/plain": [
       "<folium.features.CircleMarker at 0x7f68001bee48>"
      ]
     },
     "execution_count": 9,
     "metadata": {},
     "output_type": "execute_result"
    },
    {
     "data": {
      "text/plain": [
       "<folium.features.CircleMarker at 0x7f68001be710>"
      ]
     },
     "execution_count": 9,
     "metadata": {},
     "output_type": "execute_result"
    },
    {
     "data": {
      "text/plain": [
       "<folium.features.CircleMarker at 0x7f68001f7e48>"
      ]
     },
     "execution_count": 9,
     "metadata": {},
     "output_type": "execute_result"
    },
    {
     "data": {
      "text/plain": [
       "<folium.features.CircleMarker at 0x7f680017a8d0>"
      ]
     },
     "execution_count": 9,
     "metadata": {},
     "output_type": "execute_result"
    },
    {
     "data": {
      "text/plain": [
       "<folium.features.CircleMarker at 0x7f680017afd0>"
      ]
     },
     "execution_count": 9,
     "metadata": {},
     "output_type": "execute_result"
    },
    {
     "data": {
      "text/plain": [
       "<folium.features.CircleMarker at 0x7f680017a240>"
      ]
     },
     "execution_count": 9,
     "metadata": {},
     "output_type": "execute_result"
    },
    {
     "data": {
      "text/plain": [
       "<folium.features.CircleMarker at 0x7f680017aa20>"
      ]
     },
     "execution_count": 9,
     "metadata": {},
     "output_type": "execute_result"
    },
    {
     "data": {
      "text/plain": [
       "<folium.features.CircleMarker at 0x7f680017af98>"
      ]
     },
     "execution_count": 9,
     "metadata": {},
     "output_type": "execute_result"
    },
    {
     "data": {
      "text/plain": [
       "<folium.features.CircleMarker at 0x7f68001be2e8>"
      ]
     },
     "execution_count": 9,
     "metadata": {},
     "output_type": "execute_result"
    },
    {
     "data": {
      "text/plain": [
       "<folium.features.CircleMarker at 0x7f680017ad30>"
      ]
     },
     "execution_count": 9,
     "metadata": {},
     "output_type": "execute_result"
    },
    {
     "data": {
      "text/plain": [
       "<folium.features.CircleMarker at 0x7f6800186cf8>"
      ]
     },
     "execution_count": 9,
     "metadata": {},
     "output_type": "execute_result"
    },
    {
     "data": {
      "text/plain": [
       "<folium.features.CircleMarker at 0x7f6800186630>"
      ]
     },
     "execution_count": 9,
     "metadata": {},
     "output_type": "execute_result"
    },
    {
     "data": {
      "text/plain": [
       "<folium.features.CircleMarker at 0x7f6800186898>"
      ]
     },
     "execution_count": 9,
     "metadata": {},
     "output_type": "execute_result"
    },
    {
     "data": {
      "text/plain": [
       "<folium.features.CircleMarker at 0x7f68001b2630>"
      ]
     },
     "execution_count": 9,
     "metadata": {},
     "output_type": "execute_result"
    },
    {
     "data": {
      "text/plain": [
       "<folium.features.CircleMarker at 0x7f680017aba8>"
      ]
     },
     "execution_count": 9,
     "metadata": {},
     "output_type": "execute_result"
    },
    {
     "data": {
      "text/plain": [
       "<folium.features.CircleMarker at 0x7f68001b21d0>"
      ]
     },
     "execution_count": 9,
     "metadata": {},
     "output_type": "execute_result"
    },
    {
     "data": {
      "text/plain": [
       "<folium.features.CircleMarker at 0x7f6800186be0>"
      ]
     },
     "execution_count": 9,
     "metadata": {},
     "output_type": "execute_result"
    },
    {
     "data": {
      "text/plain": [
       "<folium.features.CircleMarker at 0x7f6800186d30>"
      ]
     },
     "execution_count": 9,
     "metadata": {},
     "output_type": "execute_result"
    },
    {
     "data": {
      "text/plain": [
       "<folium.features.CircleMarker at 0x7f68001863c8>"
      ]
     },
     "execution_count": 9,
     "metadata": {},
     "output_type": "execute_result"
    },
    {
     "data": {
      "text/plain": [
       "<folium.features.CircleMarker at 0x7f680017a780>"
      ]
     },
     "execution_count": 9,
     "metadata": {},
     "output_type": "execute_result"
    },
    {
     "data": {
      "text/plain": [
       "<folium.features.CircleMarker at 0x7f6800186048>"
      ]
     },
     "execution_count": 9,
     "metadata": {},
     "output_type": "execute_result"
    },
    {
     "data": {
      "text/plain": [
       "<folium.features.CircleMarker at 0x7f68001ae0f0>"
      ]
     },
     "execution_count": 9,
     "metadata": {},
     "output_type": "execute_result"
    },
    {
     "data": {
      "text/plain": [
       "<folium.features.CircleMarker at 0x7f68001aee10>"
      ]
     },
     "execution_count": 9,
     "metadata": {},
     "output_type": "execute_result"
    },
    {
     "data": {
      "text/plain": [
       "<folium.features.CircleMarker at 0x7f68001ae5f8>"
      ]
     },
     "execution_count": 9,
     "metadata": {},
     "output_type": "execute_result"
    },
    {
     "data": {
      "text/plain": [
       "<folium.features.CircleMarker at 0x7f680016a358>"
      ]
     },
     "execution_count": 9,
     "metadata": {},
     "output_type": "execute_result"
    },
    {
     "data": {
      "text/plain": [
       "<folium.features.CircleMarker at 0x7f68001b2ac8>"
      ]
     },
     "execution_count": 9,
     "metadata": {},
     "output_type": "execute_result"
    },
    {
     "data": {
      "text/plain": [
       "<folium.features.CircleMarker at 0x7f68001aebe0>"
      ]
     },
     "execution_count": 9,
     "metadata": {},
     "output_type": "execute_result"
    },
    {
     "data": {
      "text/plain": [
       "<folium.features.CircleMarker at 0x7f68001aeb70>"
      ]
     },
     "execution_count": 9,
     "metadata": {},
     "output_type": "execute_result"
    },
    {
     "data": {
      "text/plain": [
       "<folium.features.CircleMarker at 0x7f680016aba8>"
      ]
     },
     "execution_count": 9,
     "metadata": {},
     "output_type": "execute_result"
    },
    {
     "data": {
      "text/plain": [
       "<folium.features.CircleMarker at 0x7f680016a3c8>"
      ]
     },
     "execution_count": 9,
     "metadata": {},
     "output_type": "execute_result"
    },
    {
     "data": {
      "text/plain": [
       "<folium.features.CircleMarker at 0x7f680016a390>"
      ]
     },
     "execution_count": 9,
     "metadata": {},
     "output_type": "execute_result"
    },
    {
     "data": {
      "text/plain": [
       "<folium.features.CircleMarker at 0x7f680016aa58>"
      ]
     },
     "execution_count": 9,
     "metadata": {},
     "output_type": "execute_result"
    },
    {
     "data": {
      "text/plain": [
       "<folium.features.CircleMarker at 0x7f680016ac50>"
      ]
     },
     "execution_count": 9,
     "metadata": {},
     "output_type": "execute_result"
    },
    {
     "data": {
      "text/plain": [
       "<folium.features.CircleMarker at 0x7f680014c940>"
      ]
     },
     "execution_count": 9,
     "metadata": {},
     "output_type": "execute_result"
    },
    {
     "data": {
      "text/plain": [
       "<folium.features.CircleMarker at 0x7f680014c828>"
      ]
     },
     "execution_count": 9,
     "metadata": {},
     "output_type": "execute_result"
    },
    {
     "data": {
      "text/plain": [
       "<folium.features.CircleMarker at 0x7f680016e978>"
      ]
     },
     "execution_count": 9,
     "metadata": {},
     "output_type": "execute_result"
    },
    {
     "data": {
      "text/plain": [
       "<folium.features.CircleMarker at 0x7f680016ab00>"
      ]
     },
     "execution_count": 9,
     "metadata": {},
     "output_type": "execute_result"
    },
    {
     "data": {
      "text/plain": [
       "<folium.features.CircleMarker at 0x7f680014c668>"
      ]
     },
     "execution_count": 9,
     "metadata": {},
     "output_type": "execute_result"
    },
    {
     "data": {
      "text/plain": [
       "<folium.features.CircleMarker at 0x7f680014c2b0>"
      ]
     },
     "execution_count": 9,
     "metadata": {},
     "output_type": "execute_result"
    },
    {
     "data": {
      "text/plain": [
       "<folium.features.CircleMarker at 0x7f680014cc88>"
      ]
     },
     "execution_count": 9,
     "metadata": {},
     "output_type": "execute_result"
    },
    {
     "data": {
      "text/plain": [
       "<folium.features.CircleMarker at 0x7f680016e320>"
      ]
     },
     "execution_count": 9,
     "metadata": {},
     "output_type": "execute_result"
    },
    {
     "data": {
      "text/plain": [
       "<folium.features.CircleMarker at 0x7f680016e240>"
      ]
     },
     "execution_count": 9,
     "metadata": {},
     "output_type": "execute_result"
    },
    {
     "data": {
      "text/plain": [
       "<folium.features.CircleMarker at 0x7f680016ebe0>"
      ]
     },
     "execution_count": 9,
     "metadata": {},
     "output_type": "execute_result"
    },
    {
     "data": {
      "text/plain": [
       "<folium.features.CircleMarker at 0x7f680014c1d0>"
      ]
     },
     "execution_count": 9,
     "metadata": {},
     "output_type": "execute_result"
    },
    {
     "data": {
      "text/plain": [
       "<folium.features.CircleMarker at 0x7f680016ecc0>"
      ]
     },
     "execution_count": 9,
     "metadata": {},
     "output_type": "execute_result"
    },
    {
     "data": {
      "text/plain": [
       "<folium.features.CircleMarker at 0x7f6800106cc0>"
      ]
     },
     "execution_count": 9,
     "metadata": {},
     "output_type": "execute_result"
    },
    {
     "data": {
      "text/plain": [
       "<folium.features.CircleMarker at 0x7f6800106c18>"
      ]
     },
     "execution_count": 9,
     "metadata": {},
     "output_type": "execute_result"
    },
    {
     "data": {
      "text/plain": [
       "<folium.features.CircleMarker at 0x7f6800106080>"
      ]
     },
     "execution_count": 9,
     "metadata": {},
     "output_type": "execute_result"
    },
    {
     "data": {
      "text/plain": [
       "<folium.features.CircleMarker at 0x7f6800106c88>"
      ]
     },
     "execution_count": 9,
     "metadata": {},
     "output_type": "execute_result"
    },
    {
     "data": {
      "text/plain": [
       "<folium.features.CircleMarker at 0x7f680016ef60>"
      ]
     },
     "execution_count": 9,
     "metadata": {},
     "output_type": "execute_result"
    },
    {
     "data": {
      "text/plain": [
       "<folium.features.CircleMarker at 0x7f680016e9b0>"
      ]
     },
     "execution_count": 9,
     "metadata": {},
     "output_type": "execute_result"
    },
    {
     "data": {
      "text/plain": [
       "<folium.features.CircleMarker at 0x7f68001067f0>"
      ]
     },
     "execution_count": 9,
     "metadata": {},
     "output_type": "execute_result"
    },
    {
     "data": {
      "text/plain": [
       "<folium.features.CircleMarker at 0x7f680010d080>"
      ]
     },
     "execution_count": 9,
     "metadata": {},
     "output_type": "execute_result"
    },
    {
     "data": {
      "text/plain": [
       "<folium.features.CircleMarker at 0x7f680010d4a8>"
      ]
     },
     "execution_count": 9,
     "metadata": {},
     "output_type": "execute_result"
    },
    {
     "data": {
      "text/plain": [
       "<folium.features.CircleMarker at 0x7f680010de80>"
      ]
     },
     "execution_count": 9,
     "metadata": {},
     "output_type": "execute_result"
    },
    {
     "data": {
      "text/plain": [
       "<folium.features.CircleMarker at 0x7f680010d630>"
      ]
     },
     "execution_count": 9,
     "metadata": {},
     "output_type": "execute_result"
    },
    {
     "data": {
      "text/plain": [
       "<folium.features.CircleMarker at 0x7f680016e470>"
      ]
     },
     "execution_count": 9,
     "metadata": {},
     "output_type": "execute_result"
    },
    {
     "data": {
      "text/plain": [
       "<folium.features.CircleMarker at 0x7f6800106940>"
      ]
     },
     "execution_count": 9,
     "metadata": {},
     "output_type": "execute_result"
    },
    {
     "data": {
      "text/plain": [
       "<folium.features.CircleMarker at 0x7f6800136f28>"
      ]
     },
     "execution_count": 9,
     "metadata": {},
     "output_type": "execute_result"
    },
    {
     "data": {
      "text/plain": [
       "<folium.features.CircleMarker at 0x7f6800136c88>"
      ]
     },
     "execution_count": 9,
     "metadata": {},
     "output_type": "execute_result"
    },
    {
     "data": {
      "text/plain": [
       "<folium.features.CircleMarker at 0x7f6800136e10>"
      ]
     },
     "execution_count": 9,
     "metadata": {},
     "output_type": "execute_result"
    },
    {
     "data": {
      "text/plain": [
       "<folium.features.CircleMarker at 0x7f6800136828>"
      ]
     },
     "execution_count": 9,
     "metadata": {},
     "output_type": "execute_result"
    },
    {
     "data": {
      "text/plain": [
       "<folium.features.CircleMarker at 0x7f68001137f0>"
      ]
     },
     "execution_count": 9,
     "metadata": {},
     "output_type": "execute_result"
    },
    {
     "data": {
      "text/plain": [
       "<folium.features.CircleMarker at 0x7f680010db70>"
      ]
     },
     "execution_count": 9,
     "metadata": {},
     "output_type": "execute_result"
    },
    {
     "data": {
      "text/plain": [
       "<folium.features.CircleMarker at 0x7f6800136400>"
      ]
     },
     "execution_count": 9,
     "metadata": {},
     "output_type": "execute_result"
    },
    {
     "data": {
      "text/plain": [
       "<folium.features.CircleMarker at 0x7f6800113a90>"
      ]
     },
     "execution_count": 9,
     "metadata": {},
     "output_type": "execute_result"
    },
    {
     "data": {
      "text/plain": [
       "<folium.features.CircleMarker at 0x7f68001139b0>"
      ]
     },
     "execution_count": 9,
     "metadata": {},
     "output_type": "execute_result"
    },
    {
     "data": {
      "text/plain": [
       "<folium.features.CircleMarker at 0x7f68001135c0>"
      ]
     },
     "execution_count": 9,
     "metadata": {},
     "output_type": "execute_result"
    },
    {
     "data": {
      "text/plain": [
       "<folium.features.CircleMarker at 0x7f68000bea58>"
      ]
     },
     "execution_count": 9,
     "metadata": {},
     "output_type": "execute_result"
    },
    {
     "data": {
      "text/plain": [
       "<folium.features.CircleMarker at 0x7f68000bebe0>"
      ]
     },
     "execution_count": 9,
     "metadata": {},
     "output_type": "execute_result"
    },
    {
     "data": {
      "text/plain": [
       "<folium.features.CircleMarker at 0x7f6800136080>"
      ]
     },
     "execution_count": 9,
     "metadata": {},
     "output_type": "execute_result"
    },
    {
     "data": {
      "text/plain": [
       "<folium.features.CircleMarker at 0x7f68000be898>"
      ]
     },
     "execution_count": 9,
     "metadata": {},
     "output_type": "execute_result"
    },
    {
     "data": {
      "text/plain": [
       "<folium.features.CircleMarker at 0x7f68000bee48>"
      ]
     },
     "execution_count": 9,
     "metadata": {},
     "output_type": "execute_result"
    },
    {
     "data": {
      "text/plain": [
       "<folium.features.CircleMarker at 0x7f68000be828>"
      ]
     },
     "execution_count": 9,
     "metadata": {},
     "output_type": "execute_result"
    },
    {
     "data": {
      "text/plain": [
       "<folium.features.CircleMarker at 0x7f68000c4320>"
      ]
     },
     "execution_count": 9,
     "metadata": {},
     "output_type": "execute_result"
    },
    {
     "data": {
      "text/plain": [
       "<folium.features.CircleMarker at 0x7f68000c4208>"
      ]
     },
     "execution_count": 9,
     "metadata": {},
     "output_type": "execute_result"
    },
    {
     "data": {
      "text/plain": [
       "<folium.features.CircleMarker at 0x7f68000c47f0>"
      ]
     },
     "execution_count": 9,
     "metadata": {},
     "output_type": "execute_result"
    },
    {
     "data": {
      "text/plain": [
       "<folium.features.CircleMarker at 0x7f6800113160>"
      ]
     },
     "execution_count": 9,
     "metadata": {},
     "output_type": "execute_result"
    },
    {
     "data": {
      "text/plain": [
       "<folium.features.CircleMarker at 0x7f68000c4358>"
      ]
     },
     "execution_count": 9,
     "metadata": {},
     "output_type": "execute_result"
    },
    {
     "data": {
      "text/plain": [
       "<folium.features.CircleMarker at 0x7f68000c48d0>"
      ]
     },
     "execution_count": 9,
     "metadata": {},
     "output_type": "execute_result"
    },
    {
     "data": {
      "text/plain": [
       "<folium.features.CircleMarker at 0x7f68000c40b8>"
      ]
     },
     "execution_count": 9,
     "metadata": {},
     "output_type": "execute_result"
    },
    {
     "data": {
      "text/plain": [
       "<folium.features.CircleMarker at 0x7f68000f6710>"
      ]
     },
     "execution_count": 9,
     "metadata": {},
     "output_type": "execute_result"
    },
    {
     "data": {
      "text/plain": [
       "<folium.features.CircleMarker at 0x7f68000f6470>"
      ]
     },
     "execution_count": 9,
     "metadata": {},
     "output_type": "execute_result"
    },
    {
     "data": {
      "text/plain": [
       "<folium.features.CircleMarker at 0x7f680008a048>"
      ]
     },
     "execution_count": 9,
     "metadata": {},
     "output_type": "execute_result"
    },
    {
     "data": {
      "text/plain": [
       "<folium.features.CircleMarker at 0x7f68000bec50>"
      ]
     },
     "execution_count": 9,
     "metadata": {},
     "output_type": "execute_result"
    },
    {
     "data": {
      "text/plain": [
       "<folium.features.CircleMarker at 0x7f68000f66a0>"
      ]
     },
     "execution_count": 9,
     "metadata": {},
     "output_type": "execute_result"
    },
    {
     "data": {
      "text/plain": [
       "<folium.features.CircleMarker at 0x7f68000f6a20>"
      ]
     },
     "execution_count": 9,
     "metadata": {},
     "output_type": "execute_result"
    },
    {
     "data": {
      "text/plain": [
       "<folium.features.CircleMarker at 0x7f68000f67b8>"
      ]
     },
     "execution_count": 9,
     "metadata": {},
     "output_type": "execute_result"
    },
    {
     "data": {
      "text/plain": [
       "<folium.features.CircleMarker at 0x7f680008a4e0>"
      ]
     },
     "execution_count": 9,
     "metadata": {},
     "output_type": "execute_result"
    },
    {
     "data": {
      "text/plain": [
       "<folium.features.CircleMarker at 0x7f680008a8d0>"
      ]
     },
     "execution_count": 9,
     "metadata": {},
     "output_type": "execute_result"
    },
    {
     "data": {
      "text/plain": [
       "<folium.features.CircleMarker at 0x7f68000ad2e8>"
      ]
     },
     "execution_count": 9,
     "metadata": {},
     "output_type": "execute_result"
    },
    {
     "data": {
      "text/plain": [
       "<folium.features.CircleMarker at 0x7f68000f69e8>"
      ]
     },
     "execution_count": 9,
     "metadata": {},
     "output_type": "execute_result"
    },
    {
     "data": {
      "text/plain": [
       "<folium.features.CircleMarker at 0x7f680008af60>"
      ]
     },
     "execution_count": 9,
     "metadata": {},
     "output_type": "execute_result"
    },
    {
     "data": {
      "text/plain": [
       "<folium.features.CircleMarker at 0x7f680008ae10>"
      ]
     },
     "execution_count": 9,
     "metadata": {},
     "output_type": "execute_result"
    },
    {
     "data": {
      "text/plain": [
       "<folium.features.CircleMarker at 0x7f68000adba8>"
      ]
     },
     "execution_count": 9,
     "metadata": {},
     "output_type": "execute_result"
    },
    {
     "data": {
      "text/plain": [
       "<folium.features.CircleMarker at 0x7f68000adeb8>"
      ]
     },
     "execution_count": 9,
     "metadata": {},
     "output_type": "execute_result"
    },
    {
     "data": {
      "text/plain": [
       "<folium.features.CircleMarker at 0x7f68000ad4e0>"
      ]
     },
     "execution_count": 9,
     "metadata": {},
     "output_type": "execute_result"
    },
    {
     "data": {
      "text/plain": [
       "<folium.features.CircleMarker at 0x7f68000ade48>"
      ]
     },
     "execution_count": 9,
     "metadata": {},
     "output_type": "execute_result"
    },
    {
     "data": {
      "text/plain": [
       "<folium.features.CircleMarker at 0x7f68000ad0b8>"
      ]
     },
     "execution_count": 9,
     "metadata": {},
     "output_type": "execute_result"
    },
    {
     "data": {
      "text/plain": [
       "<folium.features.CircleMarker at 0x7f68000ad4a8>"
      ]
     },
     "execution_count": 9,
     "metadata": {},
     "output_type": "execute_result"
    },
    {
     "data": {
      "text/plain": [
       "<folium.features.CircleMarker at 0x7f68000b6048>"
      ]
     },
     "execution_count": 9,
     "metadata": {},
     "output_type": "execute_result"
    },
    {
     "data": {
      "text/plain": [
       "<folium.features.CircleMarker at 0x7f68000b6ac8>"
      ]
     },
     "execution_count": 9,
     "metadata": {},
     "output_type": "execute_result"
    },
    {
     "data": {
      "text/plain": [
       "<folium.features.CircleMarker at 0x7f68000b6c50>"
      ]
     },
     "execution_count": 9,
     "metadata": {},
     "output_type": "execute_result"
    },
    {
     "data": {
      "text/plain": [
       "<folium.features.CircleMarker at 0x7f68000b6860>"
      ]
     },
     "execution_count": 9,
     "metadata": {},
     "output_type": "execute_result"
    },
    {
     "data": {
      "text/plain": [
       "<folium.features.CircleMarker at 0x7f68000b5908>"
      ]
     },
     "execution_count": 9,
     "metadata": {},
     "output_type": "execute_result"
    },
    {
     "data": {
      "text/plain": [
       "<folium.features.CircleMarker at 0x7f68000f6ef0>"
      ]
     },
     "execution_count": 9,
     "metadata": {},
     "output_type": "execute_result"
    },
    {
     "data": {
      "text/plain": [
       "<folium.features.CircleMarker at 0x7f68000b5668>"
      ]
     },
     "execution_count": 9,
     "metadata": {},
     "output_type": "execute_result"
    },
    {
     "data": {
      "text/plain": [
       "<folium.features.CircleMarker at 0x7f68000b5ac8>"
      ]
     },
     "execution_count": 9,
     "metadata": {},
     "output_type": "execute_result"
    },
    {
     "data": {
      "text/plain": [
       "<folium.features.CircleMarker at 0x7f68000b53c8>"
      ]
     },
     "execution_count": 9,
     "metadata": {},
     "output_type": "execute_result"
    },
    {
     "data": {
      "text/plain": [
       "<folium.features.CircleMarker at 0x7f68000b5198>"
      ]
     },
     "execution_count": 9,
     "metadata": {},
     "output_type": "execute_result"
    },
    {
     "data": {
      "text/plain": [
       "<folium.features.CircleMarker at 0x7f6800052a58>"
      ]
     },
     "execution_count": 9,
     "metadata": {},
     "output_type": "execute_result"
    },
    {
     "data": {
      "text/plain": [
       "<folium.features.CircleMarker at 0x7f6800052860>"
      ]
     },
     "execution_count": 9,
     "metadata": {},
     "output_type": "execute_result"
    },
    {
     "data": {
      "text/plain": [
       "<folium.features.CircleMarker at 0x7f68000b5518>"
      ]
     },
     "execution_count": 9,
     "metadata": {},
     "output_type": "execute_result"
    },
    {
     "data": {
      "text/html": [
       "<div style=\"width:100%;\"><div style=\"position:relative;width:100%;height:0;padding-bottom:60%;\"><span style=\"color:#565656\">Make this Notebook Trusted to load map: File -> Trust Notebook</span><iframe src=\"about:blank\" style=\"position:absolute;width:100%;height:100%;left:0;top:0;border:none !important;\" data-html=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 onload=\"this.contentDocument.open();this.contentDocument.write(atob(this.getAttribute('data-html')));this.contentDocument.close();\" allowfullscreen webkitallowfullscreen mozallowfullscreen></iframe></div></div>"
      ],
      "text/plain": [
       "<folium.folium.Map at 0x7f680020c438>"
      ]
     },
     "execution_count": 9,
     "metadata": {},
     "output_type": "execute_result"
    }
   ],
   "source": [
    "# create map of New Delhi using latitude and longitude values\n",
    "map_Delhi = folium.Map(location=[latitude, longitude], zoom_start=10)\n",
    "\n",
    "#Add markers to map\n",
    "for lat, lng, borough, neighborhood in zip(neighborhoods['latitude'], neighborhoods['longitude'], neighborhoods['Borough'], neighborhoods['Neighborhood']):\n",
    "    label = '{}, {}'.format(neighborhood, borough)\n",
    "    label = folium.Popup(label, parse_html=True)\n",
    "    folium.CircleMarker(\n",
    "        [lat, lng],\n",
    "        radius=5,\n",
    "        popup=label,\n",
    "        color='blue',\n",
    "        fill=True,\n",
    "        fill_color='#3186cc',\n",
    "        fill_opacity=0.7,\n",
    "        parse_html=False).add_to(map_Delhi) \n",
    "    \n",
    "map_Delhi\n"
   ]
  },
  {
   "cell_type": "code",
   "execution_count": 10,
   "metadata": {},
   "outputs": [
    {
     "name": "stdout",
     "output_type": "stream",
     "text": [
      "Your credentails:\n",
      "CLIENT_ID: IJFLQV3IMIWD4YD52201FQZKKPXPVIS5P5M4K00ALNGY5TLE\n",
      "CLIENT_SECRET:EMLUFXPWEFTPJU4KXN52RONCRSA4OX1SMIT3Q0O2TVB3X5IF\n"
     ]
    }
   ],
   "source": [
    "CLIENT_ID = 'IJFLQV3IMIWD4YD52201FQZKKPXPVIS5P5M4K00ALNGY5TLE' # your Foursquare ID\n",
    "CLIENT_SECRET = 'EMLUFXPWEFTPJU4KXN52RONCRSA4OX1SMIT3Q0O2TVB3X5IF' # your Foursquare Secret\n",
    "VERSION = '20180605' # Foursquare API version\n",
    "\n",
    "print('Your credentails:')\n",
    "print('CLIENT_ID: ' + CLIENT_ID)\n",
    "print('CLIENT_SECRET:' + CLIENT_SECRET)"
   ]
  },
  {
   "cell_type": "code",
   "execution_count": 12,
   "metadata": {},
   "outputs": [
    {
     "data": {
      "text/html": [
       "<div>\n",
       "<style scoped>\n",
       "    .dataframe tbody tr th:only-of-type {\n",
       "        vertical-align: middle;\n",
       "    }\n",
       "\n",
       "    .dataframe tbody tr th {\n",
       "        vertical-align: top;\n",
       "    }\n",
       "\n",
       "    .dataframe thead th {\n",
       "        text-align: right;\n",
       "    }\n",
       "</style>\n",
       "<table border=\"1\" class=\"dataframe\">\n",
       "  <thead>\n",
       "    <tr style=\"text-align: right;\">\n",
       "      <th></th>\n",
       "      <th>Borough</th>\n",
       "      <th>Neighborhood</th>\n",
       "      <th>latitude</th>\n",
       "      <th>longitude</th>\n",
       "    </tr>\n",
       "  </thead>\n",
       "  <tbody>\n",
       "    <tr>\n",
       "      <th>0</th>\n",
       "      <td>South Delhi</td>\n",
       "      <td>Alaknanda</td>\n",
       "      <td>28.529336</td>\n",
       "      <td>77.251632</td>\n",
       "    </tr>\n",
       "    <tr>\n",
       "      <th>1</th>\n",
       "      <td>South Delhi</td>\n",
       "      <td>Chhattarpur</td>\n",
       "      <td>28.507007</td>\n",
       "      <td>77.175417</td>\n",
       "    </tr>\n",
       "    <tr>\n",
       "      <th>2</th>\n",
       "      <td>South Delhi</td>\n",
       "      <td>Chittaranjan Park</td>\n",
       "      <td>28.538752</td>\n",
       "      <td>77.249249</td>\n",
       "    </tr>\n",
       "    <tr>\n",
       "      <th>3</th>\n",
       "      <td>South Delhi</td>\n",
       "      <td>Dayanand Colony</td>\n",
       "      <td>28.562200</td>\n",
       "      <td>77.247613</td>\n",
       "    </tr>\n",
       "    <tr>\n",
       "      <th>4</th>\n",
       "      <td>South Delhi</td>\n",
       "      <td>Defence Colony</td>\n",
       "      <td>28.571791</td>\n",
       "      <td>77.232010</td>\n",
       "    </tr>\n",
       "    <tr>\n",
       "      <th>5</th>\n",
       "      <td>South Delhi</td>\n",
       "      <td>East of Kailash</td>\n",
       "      <td>28.557032</td>\n",
       "      <td>77.244614</td>\n",
       "    </tr>\n",
       "    <tr>\n",
       "      <th>6</th>\n",
       "      <td>South Delhi</td>\n",
       "      <td>Friends Colony</td>\n",
       "      <td>28.566751</td>\n",
       "      <td>77.261918</td>\n",
       "    </tr>\n",
       "    <tr>\n",
       "      <th>7</th>\n",
       "      <td>South Delhi</td>\n",
       "      <td>Greater Kailash</td>\n",
       "      <td>28.554633</td>\n",
       "      <td>77.228570</td>\n",
       "    </tr>\n",
       "    <tr>\n",
       "      <th>8</th>\n",
       "      <td>South Delhi</td>\n",
       "      <td>Green Park</td>\n",
       "      <td>28.558002</td>\n",
       "      <td>77.206821</td>\n",
       "    </tr>\n",
       "    <tr>\n",
       "      <th>9</th>\n",
       "      <td>South Delhi</td>\n",
       "      <td>Gulmohar Park</td>\n",
       "      <td>28.557101</td>\n",
       "      <td>77.213006</td>\n",
       "    </tr>\n",
       "  </tbody>\n",
       "</table>\n",
       "</div>"
      ],
      "text/plain": [
       "       Borough       Neighborhood   latitude  longitude\n",
       "0  South Delhi          Alaknanda  28.529336  77.251632\n",
       "1  South Delhi        Chhattarpur  28.507007  77.175417\n",
       "2  South Delhi  Chittaranjan Park  28.538752  77.249249\n",
       "3  South Delhi    Dayanand Colony  28.562200  77.247613\n",
       "4  South Delhi     Defence Colony  28.571791  77.232010\n",
       "5  South Delhi    East of Kailash  28.557032  77.244614\n",
       "6  South Delhi     Friends Colony  28.566751  77.261918\n",
       "7  South Delhi    Greater Kailash  28.554633  77.228570\n",
       "8  South Delhi         Green Park  28.558002  77.206821\n",
       "9  South Delhi      Gulmohar Park  28.557101  77.213006"
      ]
     },
     "execution_count": 12,
     "metadata": {},
     "output_type": "execute_result"
    },
    {
     "data": {
      "text/plain": [
       "(43, 4)"
      ]
     },
     "execution_count": 12,
     "metadata": {},
     "output_type": "execute_result"
    }
   ],
   "source": [
    "DelhiNW_data = neighborhoods[neighborhoods['Borough'] == 'South Delhi'].reset_index(drop=True)\n",
    "DelhiNW_data.head(10)\n",
    "DelhiNW_data.shape"
   ]
  },
  {
   "cell_type": "code",
   "execution_count": 13,
   "metadata": {},
   "outputs": [
    {
     "name": "stdout",
     "output_type": "stream",
     "text": [
      "New Delhi, Delhi, India\n",
      "The geograpical coordinates of New Delhi are 28.6138954, 77.2090057.\n"
     ]
    }
   ],
   "source": [
    "address = 'New Delhi, India'\n",
    "\n",
    "geolocator = Nominatim(user_agent=\"trnt_explorer\")\n",
    "location = geolocator.geocode(address)\n",
    "print(location)\n",
    "latitude = location.latitude\n",
    "longitude = location.longitude\n",
    "print('The geograpical coordinates of New Delhi are {}, {}.'.format(latitude, longitude))"
   ]
  },
  {
   "cell_type": "code",
   "execution_count": 14,
   "metadata": {},
   "outputs": [
    {
     "data": {
      "text/plain": [
       "<folium.features.CircleMarker at 0x7f67f7f09940>"
      ]
     },
     "execution_count": 14,
     "metadata": {},
     "output_type": "execute_result"
    },
    {
     "data": {
      "text/plain": [
       "<folium.features.CircleMarker at 0x7f67f7f0bdd8>"
      ]
     },
     "execution_count": 14,
     "metadata": {},
     "output_type": "execute_result"
    },
    {
     "data": {
      "text/plain": [
       "<folium.features.CircleMarker at 0x7f67f7f0bf98>"
      ]
     },
     "execution_count": 14,
     "metadata": {},
     "output_type": "execute_result"
    },
    {
     "data": {
      "text/plain": [
       "<folium.features.CircleMarker at 0x7f67f7f0be80>"
      ]
     },
     "execution_count": 14,
     "metadata": {},
     "output_type": "execute_result"
    },
    {
     "data": {
      "text/plain": [
       "<folium.features.CircleMarker at 0x7f67f7f0b198>"
      ]
     },
     "execution_count": 14,
     "metadata": {},
     "output_type": "execute_result"
    },
    {
     "data": {
      "text/plain": [
       "<folium.features.CircleMarker at 0x7f67f7f0b1d0>"
      ]
     },
     "execution_count": 14,
     "metadata": {},
     "output_type": "execute_result"
    },
    {
     "data": {
      "text/plain": [
       "<folium.features.CircleMarker at 0x7f67f7f171d0>"
      ]
     },
     "execution_count": 14,
     "metadata": {},
     "output_type": "execute_result"
    },
    {
     "data": {
      "text/plain": [
       "<folium.features.CircleMarker at 0x7f67f7f179b0>"
      ]
     },
     "execution_count": 14,
     "metadata": {},
     "output_type": "execute_result"
    },
    {
     "data": {
      "text/plain": [
       "<folium.features.CircleMarker at 0x7f67f7f17630>"
      ]
     },
     "execution_count": 14,
     "metadata": {},
     "output_type": "execute_result"
    },
    {
     "data": {
      "text/plain": [
       "<folium.features.CircleMarker at 0x7f67f7f0b438>"
      ]
     },
     "execution_count": 14,
     "metadata": {},
     "output_type": "execute_result"
    },
    {
     "data": {
      "text/plain": [
       "<folium.features.CircleMarker at 0x7f67f7f17ac8>"
      ]
     },
     "execution_count": 14,
     "metadata": {},
     "output_type": "execute_result"
    },
    {
     "data": {
      "text/plain": [
       "<folium.features.CircleMarker at 0x7f67f7f170f0>"
      ]
     },
     "execution_count": 14,
     "metadata": {},
     "output_type": "execute_result"
    },
    {
     "data": {
      "text/plain": [
       "<folium.features.CircleMarker at 0x7f67f7f30a58>"
      ]
     },
     "execution_count": 14,
     "metadata": {},
     "output_type": "execute_result"
    },
    {
     "data": {
      "text/plain": [
       "<folium.features.CircleMarker at 0x7f67f7f30e48>"
      ]
     },
     "execution_count": 14,
     "metadata": {},
     "output_type": "execute_result"
    },
    {
     "data": {
      "text/plain": [
       "<folium.features.CircleMarker at 0x7f67f7f30a90>"
      ]
     },
     "execution_count": 14,
     "metadata": {},
     "output_type": "execute_result"
    },
    {
     "data": {
      "text/plain": [
       "<folium.features.CircleMarker at 0x7f67f7f30b00>"
      ]
     },
     "execution_count": 14,
     "metadata": {},
     "output_type": "execute_result"
    },
    {
     "data": {
      "text/plain": [
       "<folium.features.CircleMarker at 0x7f67f7f0b550>"
      ]
     },
     "execution_count": 14,
     "metadata": {},
     "output_type": "execute_result"
    },
    {
     "data": {
      "text/plain": [
       "<folium.features.CircleMarker at 0x7f67f7f17390>"
      ]
     },
     "execution_count": 14,
     "metadata": {},
     "output_type": "execute_result"
    },
    {
     "data": {
      "text/plain": [
       "<folium.features.CircleMarker at 0x7f67f7f30da0>"
      ]
     },
     "execution_count": 14,
     "metadata": {},
     "output_type": "execute_result"
    },
    {
     "data": {
      "text/plain": [
       "<folium.features.CircleMarker at 0x7f67f7f29b00>"
      ]
     },
     "execution_count": 14,
     "metadata": {},
     "output_type": "execute_result"
    },
    {
     "data": {
      "text/plain": [
       "<folium.features.CircleMarker at 0x7f67f7f294a8>"
      ]
     },
     "execution_count": 14,
     "metadata": {},
     "output_type": "execute_result"
    },
    {
     "data": {
      "text/plain": [
       "<folium.features.CircleMarker at 0x7f67f7f29898>"
      ]
     },
     "execution_count": 14,
     "metadata": {},
     "output_type": "execute_result"
    },
    {
     "data": {
      "text/plain": [
       "<folium.features.CircleMarker at 0x7f67f7ee1400>"
      ]
     },
     "execution_count": 14,
     "metadata": {},
     "output_type": "execute_result"
    },
    {
     "data": {
      "text/plain": [
       "<folium.features.CircleMarker at 0x7f67f7f30240>"
      ]
     },
     "execution_count": 14,
     "metadata": {},
     "output_type": "execute_result"
    },
    {
     "data": {
      "text/plain": [
       "<folium.features.CircleMarker at 0x7f67f7f30470>"
      ]
     },
     "execution_count": 14,
     "metadata": {},
     "output_type": "execute_result"
    },
    {
     "data": {
      "text/plain": [
       "<folium.features.CircleMarker at 0x7f67f7ee1668>"
      ]
     },
     "execution_count": 14,
     "metadata": {},
     "output_type": "execute_result"
    },
    {
     "data": {
      "text/plain": [
       "<folium.features.CircleMarker at 0x7f67f7ee1278>"
      ]
     },
     "execution_count": 14,
     "metadata": {},
     "output_type": "execute_result"
    },
    {
     "data": {
      "text/plain": [
       "<folium.features.CircleMarker at 0x7f67f7ee1470>"
      ]
     },
     "execution_count": 14,
     "metadata": {},
     "output_type": "execute_result"
    },
    {
     "data": {
      "text/plain": [
       "<folium.features.CircleMarker at 0x7f67f7ecff60>"
      ]
     },
     "execution_count": 14,
     "metadata": {},
     "output_type": "execute_result"
    },
    {
     "data": {
      "text/plain": [
       "<folium.features.CircleMarker at 0x7f67f7ecff28>"
      ]
     },
     "execution_count": 14,
     "metadata": {},
     "output_type": "execute_result"
    },
    {
     "data": {
      "text/plain": [
       "<folium.features.CircleMarker at 0x7f67f7f292e8>"
      ]
     },
     "execution_count": 14,
     "metadata": {},
     "output_type": "execute_result"
    },
    {
     "data": {
      "text/plain": [
       "<folium.features.CircleMarker at 0x7f67f7ecf1d0>"
      ]
     },
     "execution_count": 14,
     "metadata": {},
     "output_type": "execute_result"
    },
    {
     "data": {
      "text/plain": [
       "<folium.features.CircleMarker at 0x7f67f7ecf6a0>"
      ]
     },
     "execution_count": 14,
     "metadata": {},
     "output_type": "execute_result"
    },
    {
     "data": {
      "text/plain": [
       "<folium.features.CircleMarker at 0x7f67f7ecf828>"
      ]
     },
     "execution_count": 14,
     "metadata": {},
     "output_type": "execute_result"
    },
    {
     "data": {
      "text/plain": [
       "<folium.features.CircleMarker at 0x7f67f7ecfef0>"
      ]
     },
     "execution_count": 14,
     "metadata": {},
     "output_type": "execute_result"
    },
    {
     "data": {
      "text/plain": [
       "<folium.features.CircleMarker at 0x7f67f7ef7f98>"
      ]
     },
     "execution_count": 14,
     "metadata": {},
     "output_type": "execute_result"
    },
    {
     "data": {
      "text/plain": [
       "<folium.features.CircleMarker at 0x7f67f7ef7278>"
      ]
     },
     "execution_count": 14,
     "metadata": {},
     "output_type": "execute_result"
    },
    {
     "data": {
      "text/plain": [
       "<folium.features.CircleMarker at 0x7f67f7ee1b00>"
      ]
     },
     "execution_count": 14,
     "metadata": {},
     "output_type": "execute_result"
    },
    {
     "data": {
      "text/plain": [
       "<folium.features.CircleMarker at 0x7f67f7ecf320>"
      ]
     },
     "execution_count": 14,
     "metadata": {},
     "output_type": "execute_result"
    },
    {
     "data": {
      "text/plain": [
       "<folium.features.CircleMarker at 0x7f67f7ecf5c0>"
      ]
     },
     "execution_count": 14,
     "metadata": {},
     "output_type": "execute_result"
    },
    {
     "data": {
      "text/plain": [
       "<folium.features.CircleMarker at 0x7f67f7ee1d68>"
      ]
     },
     "execution_count": 14,
     "metadata": {},
     "output_type": "execute_result"
    },
    {
     "data": {
      "text/plain": [
       "<folium.features.CircleMarker at 0x7f67f7ef7a90>"
      ]
     },
     "execution_count": 14,
     "metadata": {},
     "output_type": "execute_result"
    },
    {
     "data": {
      "text/plain": [
       "<folium.features.CircleMarker at 0x7f67f7ec3358>"
      ]
     },
     "execution_count": 14,
     "metadata": {},
     "output_type": "execute_result"
    },
    {
     "data": {
      "text/html": [
       "<div style=\"width:100%;\"><div style=\"position:relative;width:100%;height:0;padding-bottom:60%;\"><span style=\"color:#565656\">Make this Notebook Trusted to load map: File -> Trust Notebook</span><iframe src=\"about:blank\" style=\"position:absolute;width:100%;height:100%;left:0;top:0;border:none !important;\" data-html=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 onload=\"this.contentDocument.open();this.contentDocument.write(atob(this.getAttribute('data-html')));this.contentDocument.close();\" allowfullscreen webkitallowfullscreen mozallowfullscreen></iframe></div></div>"
      ],
      "text/plain": [
       "<folium.folium.Map at 0x7f67f7f09898>"
      ]
     },
     "execution_count": 14,
     "metadata": {},
     "output_type": "execute_result"
    }
   ],
   "source": [
    "# create map of NW Delhi using latitude and longitude values\n",
    "map_NWDelhi = folium.Map(location=[latitude, longitude], zoom_start=10)\n",
    "\n",
    "#Add markers to map\n",
    "for lat, lng, borough, neighborhood in zip(DelhiNW_data['latitude'], DelhiNW_data['longitude'], DelhiNW_data['Borough'], DelhiNW_data['Neighborhood']):\n",
    "    label = '{}, {}'.format(neighborhood, borough)\n",
    "    label = folium.Popup(label, parse_html=True)\n",
    "    folium.CircleMarker(\n",
    "        [lat, lng],\n",
    "        radius=5,\n",
    "        popup=label,\n",
    "        color='blue',\n",
    "        fill=True,\n",
    "        fill_color='#3186cc',\n",
    "        fill_opacity=0.7,\n",
    "        parse_html=False).add_to(map_NWDelhi) \n",
    "    \n",
    "map_NWDelhi"
   ]
  },
  {
   "cell_type": "code",
   "execution_count": 15,
   "metadata": {},
   "outputs": [],
   "source": [
    "def getNearbyVenues(names, latitudes, longitudes, radius=2000, LIMIT = 500):\n",
    "    \n",
    "    venues_list=[]\n",
    "    for name, lat, lng in zip(names, latitudes, longitudes):\n",
    "        print(name)\n",
    "            \n",
    "        # create the API request URL\n",
    "        url = 'https://api.foursquare.com/v2/venues/explore?&client_id={}&client_secret={}&v={}&ll={},{}&radius={}&limit={}'.format(\n",
    "            CLIENT_ID, \n",
    "            CLIENT_SECRET, \n",
    "            VERSION, \n",
    "            lat, \n",
    "            lng, \n",
    "            radius, \n",
    "            LIMIT)\n",
    "            \n",
    "        # make the GET request\n",
    "        results = requests.get(url).json()[\"response\"]['groups'][0]['items']\n",
    "        \n",
    "        # return only relevant information for each nearby venue\n",
    "        venues_list.append([(\n",
    "            name, \n",
    "            lat, \n",
    "            lng, \n",
    "            v['venue']['name'], \n",
    "            v['venue']['location']['lat'], \n",
    "            v['venue']['location']['lng'],  \n",
    "            v['venue']['categories'][0]['name']) for v in results])\n",
    "\n",
    "    nearby_venues = pd.DataFrame([item for venue_list in venues_list for item in venue_list])\n",
    "    nearby_venues.columns = ['Neighborhood', \n",
    "                  'Neighborhood Latitude', \n",
    "                  'Neighborhood Longitude', \n",
    "                  'Venue', \n",
    "                  'Venue Latitude', \n",
    "                  'Venue Longitude', \n",
    "                  'Venue Category']\n",
    "    \n",
    "    return(nearby_venues)"
   ]
  },
  {
   "cell_type": "code",
   "execution_count": 16,
   "metadata": {},
   "outputs": [
    {
     "name": "stdout",
     "output_type": "stream",
     "text": [
      "Alaknanda\n",
      "Chhattarpur\n",
      "Chittaranjan Park\n",
      "Dayanand Colony\n",
      "Defence Colony\n",
      "East of Kailash\n",
      "Friends Colony\n",
      "Greater Kailash\n",
      "Green Park\n",
      "Gulmohar Park\n",
      "Hauz Khas\n",
      "Hauz Khas Village\n",
      "Jaitpur\n",
      "Jangpura\n",
      "Jasola\n",
      "Jor Bagh\n",
      "Kailash Colony\n",
      "Khanpur\n",
      "Khirki Village\n",
      "Lajpat Nagar\n",
      "Lodi Colony\n",
      "Maharani Bagh\n",
      "Malviya Nagar\n",
      "Mehrauli\n",
      "Neeti Bagh\n",
      "Nehru Place\n",
      "Netaji Nagar\n",
      "New Friends Colony\n",
      "Nizamuddin West\n",
      "Okhla\n",
      "Safdarjung Enclave\n",
      "Sainik Farm\n",
      "Saket\n",
      "Sangam Vihar\n",
      "Sarita Vihar\n",
      "Sarojini Nagar\n",
      "Sarvodaya Enclave\n",
      "Shahpur Jat\n",
      "Siri Fort\n",
      "South Extension\n",
      "Sriniwaspuri\n",
      "Tughlaqabad\n",
      "Badarpur\n"
     ]
    }
   ],
   "source": [
    "DelhiNW_venues = getNearbyVenues(names=DelhiNW_data['Neighborhood'],\n",
    "                                   latitudes=DelhiNW_data['latitude'],\n",
    "                                   longitudes=DelhiNW_data['longitude']\n",
    "                                  )"
   ]
  },
  {
   "cell_type": "code",
   "execution_count": 18,
   "metadata": {},
   "outputs": [
    {
     "data": {
      "text/html": [
       "<div>\n",
       "<style scoped>\n",
       "    .dataframe tbody tr th:only-of-type {\n",
       "        vertical-align: middle;\n",
       "    }\n",
       "\n",
       "    .dataframe tbody tr th {\n",
       "        vertical-align: top;\n",
       "    }\n",
       "\n",
       "    .dataframe thead th {\n",
       "        text-align: right;\n",
       "    }\n",
       "</style>\n",
       "<table border=\"1\" class=\"dataframe\">\n",
       "  <thead>\n",
       "    <tr style=\"text-align: right;\">\n",
       "      <th></th>\n",
       "      <th>Neighborhood</th>\n",
       "      <th>Neighborhood Latitude</th>\n",
       "      <th>Neighborhood Longitude</th>\n",
       "      <th>Venue</th>\n",
       "      <th>Venue Latitude</th>\n",
       "      <th>Venue Longitude</th>\n",
       "      <th>Venue Category</th>\n",
       "    </tr>\n",
       "  </thead>\n",
       "  <tbody>\n",
       "    <tr>\n",
       "      <th>0</th>\n",
       "      <td>Alaknanda</td>\n",
       "      <td>28.529336</td>\n",
       "      <td>77.251632</td>\n",
       "      <td>City Of Joy</td>\n",
       "      <td>28.532685</td>\n",
       "      <td>77.253003</td>\n",
       "      <td>Restaurant</td>\n",
       "    </tr>\n",
       "    <tr>\n",
       "      <th>1</th>\n",
       "      <td>Alaknanda</td>\n",
       "      <td>28.529336</td>\n",
       "      <td>77.251632</td>\n",
       "      <td>Starbucks</td>\n",
       "      <td>28.534053</td>\n",
       "      <td>77.243059</td>\n",
       "      <td>Coffee Shop</td>\n",
       "    </tr>\n",
       "    <tr>\n",
       "      <th>2</th>\n",
       "      <td>Alaknanda</td>\n",
       "      <td>28.529336</td>\n",
       "      <td>77.251632</td>\n",
       "      <td>Culinaire</td>\n",
       "      <td>28.530777</td>\n",
       "      <td>77.245816</td>\n",
       "      <td>Thai Restaurant</td>\n",
       "    </tr>\n",
       "    <tr>\n",
       "      <th>3</th>\n",
       "      <td>Alaknanda</td>\n",
       "      <td>28.529336</td>\n",
       "      <td>77.251632</td>\n",
       "      <td>Yeti - The Himalayan Kitchen</td>\n",
       "      <td>28.533562</td>\n",
       "      <td>77.242361</td>\n",
       "      <td>Tibetan Restaurant</td>\n",
       "    </tr>\n",
       "    <tr>\n",
       "      <th>4</th>\n",
       "      <td>Alaknanda</td>\n",
       "      <td>28.529336</td>\n",
       "      <td>77.251632</td>\n",
       "      <td>Chocolateria San Churro</td>\n",
       "      <td>28.534612</td>\n",
       "      <td>77.243642</td>\n",
       "      <td>Dessert Shop</td>\n",
       "    </tr>\n",
       "  </tbody>\n",
       "</table>\n",
       "</div>"
      ],
      "text/plain": [
       "  Neighborhood  Neighborhood Latitude  Neighborhood Longitude  \\\n",
       "0    Alaknanda              28.529336               77.251632   \n",
       "1    Alaknanda              28.529336               77.251632   \n",
       "2    Alaknanda              28.529336               77.251632   \n",
       "3    Alaknanda              28.529336               77.251632   \n",
       "4    Alaknanda              28.529336               77.251632   \n",
       "\n",
       "                          Venue  Venue Latitude  Venue Longitude  \\\n",
       "0                   City Of Joy       28.532685        77.253003   \n",
       "1                     Starbucks       28.534053        77.243059   \n",
       "2                     Culinaire       28.530777        77.245816   \n",
       "3  Yeti - The Himalayan Kitchen       28.533562        77.242361   \n",
       "4       Chocolateria San Churro       28.534612        77.243642   \n",
       "\n",
       "       Venue Category  \n",
       "0          Restaurant  \n",
       "1         Coffee Shop  \n",
       "2     Thai Restaurant  \n",
       "3  Tibetan Restaurant  \n",
       "4        Dessert Shop  "
      ]
     },
     "execution_count": 18,
     "metadata": {},
     "output_type": "execute_result"
    },
    {
     "data": {
      "text/plain": [
       "Index(['Neighborhood', 'Neighborhood Latitude', 'Neighborhood Longitude',\n",
       "       'Venue', 'Venue Latitude', 'Venue Longitude', 'Venue Category'],\n",
       "      dtype='object')"
      ]
     },
     "execution_count": 18,
     "metadata": {},
     "output_type": "execute_result"
    }
   ],
   "source": [
    "DelhiNW_venues.head()\n",
    "DelhiNW_venues.columns"
   ]
  },
  {
   "cell_type": "code",
   "execution_count": 19,
   "metadata": {},
   "outputs": [
    {
     "data": {
      "text/html": [
       "<div>\n",
       "<style scoped>\n",
       "    .dataframe tbody tr th:only-of-type {\n",
       "        vertical-align: middle;\n",
       "    }\n",
       "\n",
       "    .dataframe tbody tr th {\n",
       "        vertical-align: top;\n",
       "    }\n",
       "\n",
       "    .dataframe thead th {\n",
       "        text-align: right;\n",
       "    }\n",
       "</style>\n",
       "<table border=\"1\" class=\"dataframe\">\n",
       "  <thead>\n",
       "    <tr style=\"text-align: right;\">\n",
       "      <th></th>\n",
       "      <th>Neighborhood</th>\n",
       "      <th>Neighborhood Latitude</th>\n",
       "      <th>Neighborhood Longitude</th>\n",
       "      <th>Venue</th>\n",
       "      <th>Venue Latitude</th>\n",
       "      <th>Venue Longitude</th>\n",
       "      <th>Venue Category</th>\n",
       "    </tr>\n",
       "  </thead>\n",
       "  <tbody>\n",
       "    <tr>\n",
       "      <th>2</th>\n",
       "      <td>Alaknanda</td>\n",
       "      <td>28.529336</td>\n",
       "      <td>77.251632</td>\n",
       "      <td>Culinaire</td>\n",
       "      <td>28.530777</td>\n",
       "      <td>77.245816</td>\n",
       "      <td>Thai Restaurant</td>\n",
       "    </tr>\n",
       "    <tr>\n",
       "      <th>3</th>\n",
       "      <td>Alaknanda</td>\n",
       "      <td>28.529336</td>\n",
       "      <td>77.251632</td>\n",
       "      <td>Yeti - The Himalayan Kitchen</td>\n",
       "      <td>28.533562</td>\n",
       "      <td>77.242361</td>\n",
       "      <td>Tibetan Restaurant</td>\n",
       "    </tr>\n",
       "    <tr>\n",
       "      <th>5</th>\n",
       "      <td>Alaknanda</td>\n",
       "      <td>28.529336</td>\n",
       "      <td>77.251632</td>\n",
       "      <td>China Garden</td>\n",
       "      <td>28.532931</td>\n",
       "      <td>77.243214</td>\n",
       "      <td>Chinese Restaurant</td>\n",
       "    </tr>\n",
       "    <tr>\n",
       "      <th>7</th>\n",
       "      <td>Alaknanda</td>\n",
       "      <td>28.529336</td>\n",
       "      <td>77.251632</td>\n",
       "      <td>Artusi Ristorante e Bar</td>\n",
       "      <td>28.533452</td>\n",
       "      <td>77.242032</td>\n",
       "      <td>Italian Restaurant</td>\n",
       "    </tr>\n",
       "    <tr>\n",
       "      <th>9</th>\n",
       "      <td>Alaknanda</td>\n",
       "      <td>28.529336</td>\n",
       "      <td>77.251632</td>\n",
       "      <td>Amalfi</td>\n",
       "      <td>28.532367</td>\n",
       "      <td>77.242859</td>\n",
       "      <td>Italian Restaurant</td>\n",
       "    </tr>\n",
       "  </tbody>\n",
       "</table>\n",
       "</div>"
      ],
      "text/plain": [
       "  Neighborhood  Neighborhood Latitude  Neighborhood Longitude  \\\n",
       "2    Alaknanda              28.529336               77.251632   \n",
       "3    Alaknanda              28.529336               77.251632   \n",
       "5    Alaknanda              28.529336               77.251632   \n",
       "7    Alaknanda              28.529336               77.251632   \n",
       "9    Alaknanda              28.529336               77.251632   \n",
       "\n",
       "                          Venue  Venue Latitude  Venue Longitude  \\\n",
       "2                     Culinaire       28.530777        77.245816   \n",
       "3  Yeti - The Himalayan Kitchen       28.533562        77.242361   \n",
       "5                  China Garden       28.532931        77.243214   \n",
       "7       Artusi Ristorante e Bar       28.533452        77.242032   \n",
       "9                        Amalfi       28.532367        77.242859   \n",
       "\n",
       "       Venue Category  \n",
       "2     Thai Restaurant  \n",
       "3  Tibetan Restaurant  \n",
       "5  Chinese Restaurant  \n",
       "7  Italian Restaurant  \n",
       "9  Italian Restaurant  "
      ]
     },
     "execution_count": 19,
     "metadata": {},
     "output_type": "execute_result"
    }
   ],
   "source": [
    "DelhiNW_venues= DelhiNW_venues[(DelhiNW_venues['Venue Category'].str.contains('Restaurant')) & (DelhiNW_venues['Venue Category'] !=('Restaurant'))]\n",
    "DelhiNW_venues.head()"
   ]
  },
  {
   "cell_type": "code",
   "execution_count": 20,
   "metadata": {},
   "outputs": [
    {
     "data": {
      "text/html": [
       "<div>\n",
       "<style scoped>\n",
       "    .dataframe tbody tr th:only-of-type {\n",
       "        vertical-align: middle;\n",
       "    }\n",
       "\n",
       "    .dataframe tbody tr th {\n",
       "        vertical-align: top;\n",
       "    }\n",
       "\n",
       "    .dataframe thead th {\n",
       "        text-align: right;\n",
       "    }\n",
       "</style>\n",
       "<table border=\"1\" class=\"dataframe\">\n",
       "  <thead>\n",
       "    <tr style=\"text-align: right;\">\n",
       "      <th></th>\n",
       "      <th>Neighborhood Latitude</th>\n",
       "      <th>Neighborhood Longitude</th>\n",
       "      <th>Venue</th>\n",
       "      <th>Venue Latitude</th>\n",
       "      <th>Venue Longitude</th>\n",
       "      <th>Venue Category</th>\n",
       "    </tr>\n",
       "    <tr>\n",
       "      <th>Neighborhood</th>\n",
       "      <th></th>\n",
       "      <th></th>\n",
       "      <th></th>\n",
       "      <th></th>\n",
       "      <th></th>\n",
       "      <th></th>\n",
       "    </tr>\n",
       "  </thead>\n",
       "  <tbody>\n",
       "    <tr>\n",
       "      <th>Alaknanda</th>\n",
       "      <td>19</td>\n",
       "      <td>19</td>\n",
       "      <td>19</td>\n",
       "      <td>19</td>\n",
       "      <td>19</td>\n",
       "      <td>19</td>\n",
       "    </tr>\n",
       "    <tr>\n",
       "      <th>Chhattarpur</th>\n",
       "      <td>9</td>\n",
       "      <td>9</td>\n",
       "      <td>9</td>\n",
       "      <td>9</td>\n",
       "      <td>9</td>\n",
       "      <td>9</td>\n",
       "    </tr>\n",
       "    <tr>\n",
       "      <th>Chittaranjan Park</th>\n",
       "      <td>27</td>\n",
       "      <td>27</td>\n",
       "      <td>27</td>\n",
       "      <td>27</td>\n",
       "      <td>27</td>\n",
       "      <td>27</td>\n",
       "    </tr>\n",
       "    <tr>\n",
       "      <th>Dayanand Colony</th>\n",
       "      <td>30</td>\n",
       "      <td>30</td>\n",
       "      <td>30</td>\n",
       "      <td>30</td>\n",
       "      <td>30</td>\n",
       "      <td>30</td>\n",
       "    </tr>\n",
       "    <tr>\n",
       "      <th>Defence Colony</th>\n",
       "      <td>35</td>\n",
       "      <td>35</td>\n",
       "      <td>35</td>\n",
       "      <td>35</td>\n",
       "      <td>35</td>\n",
       "      <td>35</td>\n",
       "    </tr>\n",
       "    <tr>\n",
       "      <th>East of Kailash</th>\n",
       "      <td>30</td>\n",
       "      <td>30</td>\n",
       "      <td>30</td>\n",
       "      <td>30</td>\n",
       "      <td>30</td>\n",
       "      <td>30</td>\n",
       "    </tr>\n",
       "    <tr>\n",
       "      <th>Friends Colony</th>\n",
       "      <td>12</td>\n",
       "      <td>12</td>\n",
       "      <td>12</td>\n",
       "      <td>12</td>\n",
       "      <td>12</td>\n",
       "      <td>12</td>\n",
       "    </tr>\n",
       "    <tr>\n",
       "      <th>Greater Kailash</th>\n",
       "      <td>23</td>\n",
       "      <td>23</td>\n",
       "      <td>23</td>\n",
       "      <td>23</td>\n",
       "      <td>23</td>\n",
       "      <td>23</td>\n",
       "    </tr>\n",
       "    <tr>\n",
       "      <th>Green Park</th>\n",
       "      <td>30</td>\n",
       "      <td>30</td>\n",
       "      <td>30</td>\n",
       "      <td>30</td>\n",
       "      <td>30</td>\n",
       "      <td>30</td>\n",
       "    </tr>\n",
       "    <tr>\n",
       "      <th>Gulmohar Park</th>\n",
       "      <td>27</td>\n",
       "      <td>27</td>\n",
       "      <td>27</td>\n",
       "      <td>27</td>\n",
       "      <td>27</td>\n",
       "      <td>27</td>\n",
       "    </tr>\n",
       "    <tr>\n",
       "      <th>Hauz Khas</th>\n",
       "      <td>29</td>\n",
       "      <td>29</td>\n",
       "      <td>29</td>\n",
       "      <td>29</td>\n",
       "      <td>29</td>\n",
       "      <td>29</td>\n",
       "    </tr>\n",
       "    <tr>\n",
       "      <th>Hauz Khas Village</th>\n",
       "      <td>35</td>\n",
       "      <td>35</td>\n",
       "      <td>35</td>\n",
       "      <td>35</td>\n",
       "      <td>35</td>\n",
       "      <td>35</td>\n",
       "    </tr>\n",
       "    <tr>\n",
       "      <th>Jangpura</th>\n",
       "      <td>32</td>\n",
       "      <td>32</td>\n",
       "      <td>32</td>\n",
       "      <td>32</td>\n",
       "      <td>32</td>\n",
       "      <td>32</td>\n",
       "    </tr>\n",
       "    <tr>\n",
       "      <th>Jasola</th>\n",
       "      <td>3</td>\n",
       "      <td>3</td>\n",
       "      <td>3</td>\n",
       "      <td>3</td>\n",
       "      <td>3</td>\n",
       "      <td>3</td>\n",
       "    </tr>\n",
       "    <tr>\n",
       "      <th>Jor Bagh</th>\n",
       "      <td>16</td>\n",
       "      <td>16</td>\n",
       "      <td>16</td>\n",
       "      <td>16</td>\n",
       "      <td>16</td>\n",
       "      <td>16</td>\n",
       "    </tr>\n",
       "    <tr>\n",
       "      <th>Kailash Colony</th>\n",
       "      <td>31</td>\n",
       "      <td>31</td>\n",
       "      <td>31</td>\n",
       "      <td>31</td>\n",
       "      <td>31</td>\n",
       "      <td>31</td>\n",
       "    </tr>\n",
       "    <tr>\n",
       "      <th>Khanpur</th>\n",
       "      <td>1</td>\n",
       "      <td>1</td>\n",
       "      <td>1</td>\n",
       "      <td>1</td>\n",
       "      <td>1</td>\n",
       "      <td>1</td>\n",
       "    </tr>\n",
       "    <tr>\n",
       "      <th>Khirki Village</th>\n",
       "      <td>28</td>\n",
       "      <td>28</td>\n",
       "      <td>28</td>\n",
       "      <td>28</td>\n",
       "      <td>28</td>\n",
       "      <td>28</td>\n",
       "    </tr>\n",
       "    <tr>\n",
       "      <th>Lajpat Nagar</th>\n",
       "      <td>34</td>\n",
       "      <td>34</td>\n",
       "      <td>34</td>\n",
       "      <td>34</td>\n",
       "      <td>34</td>\n",
       "      <td>34</td>\n",
       "    </tr>\n",
       "    <tr>\n",
       "      <th>Lodi Colony</th>\n",
       "      <td>24</td>\n",
       "      <td>24</td>\n",
       "      <td>24</td>\n",
       "      <td>24</td>\n",
       "      <td>24</td>\n",
       "      <td>24</td>\n",
       "    </tr>\n",
       "    <tr>\n",
       "      <th>Maharani Bagh</th>\n",
       "      <td>8</td>\n",
       "      <td>8</td>\n",
       "      <td>8</td>\n",
       "      <td>8</td>\n",
       "      <td>8</td>\n",
       "      <td>8</td>\n",
       "    </tr>\n",
       "    <tr>\n",
       "      <th>Malviya Nagar</th>\n",
       "      <td>25</td>\n",
       "      <td>25</td>\n",
       "      <td>25</td>\n",
       "      <td>25</td>\n",
       "      <td>25</td>\n",
       "      <td>25</td>\n",
       "    </tr>\n",
       "    <tr>\n",
       "      <th>Mehrauli</th>\n",
       "      <td>6</td>\n",
       "      <td>6</td>\n",
       "      <td>6</td>\n",
       "      <td>6</td>\n",
       "      <td>6</td>\n",
       "      <td>6</td>\n",
       "    </tr>\n",
       "    <tr>\n",
       "      <th>Neeti Bagh</th>\n",
       "      <td>22</td>\n",
       "      <td>22</td>\n",
       "      <td>22</td>\n",
       "      <td>22</td>\n",
       "      <td>22</td>\n",
       "      <td>22</td>\n",
       "    </tr>\n",
       "    <tr>\n",
       "      <th>Nehru Place</th>\n",
       "      <td>25</td>\n",
       "      <td>25</td>\n",
       "      <td>25</td>\n",
       "      <td>25</td>\n",
       "      <td>25</td>\n",
       "      <td>25</td>\n",
       "    </tr>\n",
       "    <tr>\n",
       "      <th>Netaji Nagar</th>\n",
       "      <td>25</td>\n",
       "      <td>25</td>\n",
       "      <td>25</td>\n",
       "      <td>25</td>\n",
       "      <td>25</td>\n",
       "      <td>25</td>\n",
       "    </tr>\n",
       "    <tr>\n",
       "      <th>New Friends Colony</th>\n",
       "      <td>10</td>\n",
       "      <td>10</td>\n",
       "      <td>10</td>\n",
       "      <td>10</td>\n",
       "      <td>10</td>\n",
       "      <td>10</td>\n",
       "    </tr>\n",
       "    <tr>\n",
       "      <th>Nizamuddin West</th>\n",
       "      <td>17</td>\n",
       "      <td>17</td>\n",
       "      <td>17</td>\n",
       "      <td>17</td>\n",
       "      <td>17</td>\n",
       "      <td>17</td>\n",
       "    </tr>\n",
       "    <tr>\n",
       "      <th>Okhla</th>\n",
       "      <td>4</td>\n",
       "      <td>4</td>\n",
       "      <td>4</td>\n",
       "      <td>4</td>\n",
       "      <td>4</td>\n",
       "      <td>4</td>\n",
       "    </tr>\n",
       "    <tr>\n",
       "      <th>Safdarjung Enclave</th>\n",
       "      <td>37</td>\n",
       "      <td>37</td>\n",
       "      <td>37</td>\n",
       "      <td>37</td>\n",
       "      <td>37</td>\n",
       "      <td>37</td>\n",
       "    </tr>\n",
       "    <tr>\n",
       "      <th>Sainik Farm</th>\n",
       "      <td>4</td>\n",
       "      <td>4</td>\n",
       "      <td>4</td>\n",
       "      <td>4</td>\n",
       "      <td>4</td>\n",
       "      <td>4</td>\n",
       "    </tr>\n",
       "    <tr>\n",
       "      <th>Saket</th>\n",
       "      <td>28</td>\n",
       "      <td>28</td>\n",
       "      <td>28</td>\n",
       "      <td>28</td>\n",
       "      <td>28</td>\n",
       "      <td>28</td>\n",
       "    </tr>\n",
       "    <tr>\n",
       "      <th>Sangam Vihar</th>\n",
       "      <td>2</td>\n",
       "      <td>2</td>\n",
       "      <td>2</td>\n",
       "      <td>2</td>\n",
       "      <td>2</td>\n",
       "      <td>2</td>\n",
       "    </tr>\n",
       "    <tr>\n",
       "      <th>Sarita Vihar</th>\n",
       "      <td>3</td>\n",
       "      <td>3</td>\n",
       "      <td>3</td>\n",
       "      <td>3</td>\n",
       "      <td>3</td>\n",
       "      <td>3</td>\n",
       "    </tr>\n",
       "    <tr>\n",
       "      <th>Sarojini Nagar</th>\n",
       "      <td>20</td>\n",
       "      <td>20</td>\n",
       "      <td>20</td>\n",
       "      <td>20</td>\n",
       "      <td>20</td>\n",
       "      <td>20</td>\n",
       "    </tr>\n",
       "    <tr>\n",
       "      <th>Sarvodaya Enclave</th>\n",
       "      <td>26</td>\n",
       "      <td>26</td>\n",
       "      <td>26</td>\n",
       "      <td>26</td>\n",
       "      <td>26</td>\n",
       "      <td>26</td>\n",
       "    </tr>\n",
       "    <tr>\n",
       "      <th>Shahpur Jat</th>\n",
       "      <td>26</td>\n",
       "      <td>26</td>\n",
       "      <td>26</td>\n",
       "      <td>26</td>\n",
       "      <td>26</td>\n",
       "      <td>26</td>\n",
       "    </tr>\n",
       "    <tr>\n",
       "      <th>Siri Fort</th>\n",
       "      <td>32</td>\n",
       "      <td>32</td>\n",
       "      <td>32</td>\n",
       "      <td>32</td>\n",
       "      <td>32</td>\n",
       "      <td>32</td>\n",
       "    </tr>\n",
       "    <tr>\n",
       "      <th>South Extension</th>\n",
       "      <td>30</td>\n",
       "      <td>30</td>\n",
       "      <td>30</td>\n",
       "      <td>30</td>\n",
       "      <td>30</td>\n",
       "      <td>30</td>\n",
       "    </tr>\n",
       "    <tr>\n",
       "      <th>Sriniwaspuri</th>\n",
       "      <td>26</td>\n",
       "      <td>26</td>\n",
       "      <td>26</td>\n",
       "      <td>26</td>\n",
       "      <td>26</td>\n",
       "      <td>26</td>\n",
       "    </tr>\n",
       "  </tbody>\n",
       "</table>\n",
       "</div>"
      ],
      "text/plain": [
       "                    Neighborhood Latitude  Neighborhood Longitude  Venue  \\\n",
       "Neighborhood                                                               \n",
       "Alaknanda                              19                      19     19   \n",
       "Chhattarpur                             9                       9      9   \n",
       "Chittaranjan Park                      27                      27     27   \n",
       "Dayanand Colony                        30                      30     30   \n",
       "Defence Colony                         35                      35     35   \n",
       "East of Kailash                        30                      30     30   \n",
       "Friends Colony                         12                      12     12   \n",
       "Greater Kailash                        23                      23     23   \n",
       "Green Park                             30                      30     30   \n",
       "Gulmohar Park                          27                      27     27   \n",
       "Hauz Khas                              29                      29     29   \n",
       "Hauz Khas Village                      35                      35     35   \n",
       "Jangpura                               32                      32     32   \n",
       "Jasola                                  3                       3      3   \n",
       "Jor Bagh                               16                      16     16   \n",
       "Kailash Colony                         31                      31     31   \n",
       "Khanpur                                 1                       1      1   \n",
       "Khirki Village                         28                      28     28   \n",
       "Lajpat Nagar                           34                      34     34   \n",
       "Lodi Colony                            24                      24     24   \n",
       "Maharani Bagh                           8                       8      8   \n",
       "Malviya Nagar                          25                      25     25   \n",
       "Mehrauli                                6                       6      6   \n",
       "Neeti Bagh                             22                      22     22   \n",
       "Nehru Place                            25                      25     25   \n",
       "Netaji Nagar                           25                      25     25   \n",
       "New Friends Colony                     10                      10     10   \n",
       "Nizamuddin West                        17                      17     17   \n",
       "Okhla                                   4                       4      4   \n",
       "Safdarjung Enclave                     37                      37     37   \n",
       "Sainik Farm                             4                       4      4   \n",
       "Saket                                  28                      28     28   \n",
       "Sangam Vihar                            2                       2      2   \n",
       "Sarita Vihar                            3                       3      3   \n",
       "Sarojini Nagar                         20                      20     20   \n",
       "Sarvodaya Enclave                      26                      26     26   \n",
       "Shahpur Jat                            26                      26     26   \n",
       "Siri Fort                              32                      32     32   \n",
       "South Extension                        30                      30     30   \n",
       "Sriniwaspuri                           26                      26     26   \n",
       "\n",
       "                    Venue Latitude  Venue Longitude  Venue Category  \n",
       "Neighborhood                                                         \n",
       "Alaknanda                       19               19              19  \n",
       "Chhattarpur                      9                9               9  \n",
       "Chittaranjan Park               27               27              27  \n",
       "Dayanand Colony                 30               30              30  \n",
       "Defence Colony                  35               35              35  \n",
       "East of Kailash                 30               30              30  \n",
       "Friends Colony                  12               12              12  \n",
       "Greater Kailash                 23               23              23  \n",
       "Green Park                      30               30              30  \n",
       "Gulmohar Park                   27               27              27  \n",
       "Hauz Khas                       29               29              29  \n",
       "Hauz Khas Village               35               35              35  \n",
       "Jangpura                        32               32              32  \n",
       "Jasola                           3                3               3  \n",
       "Jor Bagh                        16               16              16  \n",
       "Kailash Colony                  31               31              31  \n",
       "Khanpur                          1                1               1  \n",
       "Khirki Village                  28               28              28  \n",
       "Lajpat Nagar                    34               34              34  \n",
       "Lodi Colony                     24               24              24  \n",
       "Maharani Bagh                    8                8               8  \n",
       "Malviya Nagar                   25               25              25  \n",
       "Mehrauli                         6                6               6  \n",
       "Neeti Bagh                      22               22              22  \n",
       "Nehru Place                     25               25              25  \n",
       "Netaji Nagar                    25               25              25  \n",
       "New Friends Colony              10               10              10  \n",
       "Nizamuddin West                 17               17              17  \n",
       "Okhla                            4                4               4  \n",
       "Safdarjung Enclave              37               37              37  \n",
       "Sainik Farm                      4                4               4  \n",
       "Saket                           28               28              28  \n",
       "Sangam Vihar                     2                2               2  \n",
       "Sarita Vihar                     3                3               3  \n",
       "Sarojini Nagar                  20               20              20  \n",
       "Sarvodaya Enclave               26               26              26  \n",
       "Shahpur Jat                     26               26              26  \n",
       "Siri Fort                       32               32              32  \n",
       "South Extension                 30               30              30  \n",
       "Sriniwaspuri                    26               26              26  "
      ]
     },
     "execution_count": 20,
     "metadata": {},
     "output_type": "execute_result"
    }
   ],
   "source": [
    "DelhiNW_venues.groupby('Neighborhood').count()"
   ]
  },
  {
   "cell_type": "code",
   "execution_count": 21,
   "metadata": {},
   "outputs": [
    {
     "name": "stdout",
     "output_type": "stream",
     "text": [
      "There are 34 uniques categories.\n"
     ]
    }
   ],
   "source": [
    "print('There are {} uniques categories.'.format(len(DelhiNW_venues['Venue Category'].unique())))"
   ]
  },
  {
   "cell_type": "code",
   "execution_count": 21,
   "metadata": {},
   "outputs": [
    {
     "data": {
      "text/plain": [
       "array(['Thai Restaurant', 'Tibetan Restaurant', 'Chinese Restaurant',\n",
       "       'Italian Restaurant', 'Indian Restaurant', 'Asian Restaurant',\n",
       "       'French Restaurant', 'Fast Food Restaurant',\n",
       "       'Mediterranean Restaurant', 'Japanese Restaurant',\n",
       "       'Bengali Restaurant', 'Australian Restaurant',\n",
       "       'South Indian Restaurant', 'English Restaurant',\n",
       "       'Modern European Restaurant', 'Eastern European Restaurant',\n",
       "       'Middle Eastern Restaurant', 'Vegetarian / Vegan Restaurant',\n",
       "       'Korean Restaurant', 'American Restaurant', 'Tapas Restaurant',\n",
       "       'Turkish Restaurant', 'Scandinavian Restaurant',\n",
       "       'Mexican Restaurant', 'Burmese Restaurant', 'Mughlai Restaurant',\n",
       "       'North Indian Restaurant', 'Comfort Food Restaurant',\n",
       "       'Falafel Restaurant', 'Tex-Mex Restaurant',\n",
       "       'Northeast Indian Restaurant', 'Seafood Restaurant',\n",
       "       'New American Restaurant'], dtype=object)"
      ]
     },
     "execution_count": 21,
     "metadata": {},
     "output_type": "execute_result"
    }
   ],
   "source": [
    "DelhiNW_venues['Venue Category'].unique()"
   ]
  },
  {
   "cell_type": "code",
   "execution_count": 22,
   "metadata": {},
   "outputs": [
    {
     "data": {
      "text/html": [
       "<div>\n",
       "<style scoped>\n",
       "    .dataframe tbody tr th:only-of-type {\n",
       "        vertical-align: middle;\n",
       "    }\n",
       "\n",
       "    .dataframe tbody tr th {\n",
       "        vertical-align: top;\n",
       "    }\n",
       "\n",
       "    .dataframe thead th {\n",
       "        text-align: right;\n",
       "    }\n",
       "</style>\n",
       "<table border=\"1\" class=\"dataframe\">\n",
       "  <thead>\n",
       "    <tr style=\"text-align: right;\">\n",
       "      <th></th>\n",
       "      <th>Neighborhood</th>\n",
       "      <th>Afghan Restaurant</th>\n",
       "      <th>American Restaurant</th>\n",
       "      <th>Asian Restaurant</th>\n",
       "      <th>Australian Restaurant</th>\n",
       "      <th>Bengali Restaurant</th>\n",
       "      <th>Burmese Restaurant</th>\n",
       "      <th>Chinese Restaurant</th>\n",
       "      <th>Comfort Food Restaurant</th>\n",
       "      <th>Dumpling Restaurant</th>\n",
       "      <th>Eastern European Restaurant</th>\n",
       "      <th>English Restaurant</th>\n",
       "      <th>Falafel Restaurant</th>\n",
       "      <th>Fast Food Restaurant</th>\n",
       "      <th>French Restaurant</th>\n",
       "      <th>Indian Restaurant</th>\n",
       "      <th>Italian Restaurant</th>\n",
       "      <th>Japanese Restaurant</th>\n",
       "      <th>Korean Restaurant</th>\n",
       "      <th>Mediterranean Restaurant</th>\n",
       "      <th>Mexican Restaurant</th>\n",
       "      <th>Middle Eastern Restaurant</th>\n",
       "      <th>Modern European Restaurant</th>\n",
       "      <th>Mughlai Restaurant</th>\n",
       "      <th>North Indian Restaurant</th>\n",
       "      <th>Northeast Indian Restaurant</th>\n",
       "      <th>Scandinavian Restaurant</th>\n",
       "      <th>Seafood Restaurant</th>\n",
       "      <th>South Indian Restaurant</th>\n",
       "      <th>Tapas Restaurant</th>\n",
       "      <th>Tex-Mex Restaurant</th>\n",
       "      <th>Thai Restaurant</th>\n",
       "      <th>Tibetan Restaurant</th>\n",
       "      <th>Turkish Restaurant</th>\n",
       "      <th>Vegetarian / Vegan Restaurant</th>\n",
       "    </tr>\n",
       "  </thead>\n",
       "  <tbody>\n",
       "    <tr>\n",
       "      <th>0</th>\n",
       "      <td>Alaknanda</td>\n",
       "      <td>0.000000</td>\n",
       "      <td>0.0</td>\n",
       "      <td>0.157895</td>\n",
       "      <td>0.000000</td>\n",
       "      <td>0.000000</td>\n",
       "      <td>0.0</td>\n",
       "      <td>0.157895</td>\n",
       "      <td>0.0</td>\n",
       "      <td>0.000000</td>\n",
       "      <td>0.000000</td>\n",
       "      <td>0.000000</td>\n",
       "      <td>0.0</td>\n",
       "      <td>0.105263</td>\n",
       "      <td>0.052632</td>\n",
       "      <td>0.263158</td>\n",
       "      <td>0.105263</td>\n",
       "      <td>0.000000</td>\n",
       "      <td>0.0</td>\n",
       "      <td>0.052632</td>\n",
       "      <td>0.0</td>\n",
       "      <td>0.0</td>\n",
       "      <td>0.000000</td>\n",
       "      <td>0.0</td>\n",
       "      <td>0.0</td>\n",
       "      <td>0.0</td>\n",
       "      <td>0.0</td>\n",
       "      <td>0.0</td>\n",
       "      <td>0.000000</td>\n",
       "      <td>0.0</td>\n",
       "      <td>0.0</td>\n",
       "      <td>0.052632</td>\n",
       "      <td>0.052632</td>\n",
       "      <td>0.0</td>\n",
       "      <td>0.0</td>\n",
       "    </tr>\n",
       "    <tr>\n",
       "      <th>1</th>\n",
       "      <td>Chhattarpur</td>\n",
       "      <td>0.000000</td>\n",
       "      <td>0.0</td>\n",
       "      <td>0.000000</td>\n",
       "      <td>0.000000</td>\n",
       "      <td>0.000000</td>\n",
       "      <td>0.0</td>\n",
       "      <td>0.111111</td>\n",
       "      <td>0.0</td>\n",
       "      <td>0.000000</td>\n",
       "      <td>0.000000</td>\n",
       "      <td>0.000000</td>\n",
       "      <td>0.0</td>\n",
       "      <td>0.111111</td>\n",
       "      <td>0.000000</td>\n",
       "      <td>0.333333</td>\n",
       "      <td>0.222222</td>\n",
       "      <td>0.111111</td>\n",
       "      <td>0.0</td>\n",
       "      <td>0.000000</td>\n",
       "      <td>0.0</td>\n",
       "      <td>0.0</td>\n",
       "      <td>0.000000</td>\n",
       "      <td>0.0</td>\n",
       "      <td>0.0</td>\n",
       "      <td>0.0</td>\n",
       "      <td>0.0</td>\n",
       "      <td>0.0</td>\n",
       "      <td>0.000000</td>\n",
       "      <td>0.0</td>\n",
       "      <td>0.0</td>\n",
       "      <td>0.111111</td>\n",
       "      <td>0.000000</td>\n",
       "      <td>0.0</td>\n",
       "      <td>0.0</td>\n",
       "    </tr>\n",
       "    <tr>\n",
       "      <th>2</th>\n",
       "      <td>Chittaranjan Park</td>\n",
       "      <td>0.000000</td>\n",
       "      <td>0.0</td>\n",
       "      <td>0.111111</td>\n",
       "      <td>0.037037</td>\n",
       "      <td>0.037037</td>\n",
       "      <td>0.0</td>\n",
       "      <td>0.148148</td>\n",
       "      <td>0.0</td>\n",
       "      <td>0.000000</td>\n",
       "      <td>0.000000</td>\n",
       "      <td>0.000000</td>\n",
       "      <td>0.0</td>\n",
       "      <td>0.148148</td>\n",
       "      <td>0.037037</td>\n",
       "      <td>0.259259</td>\n",
       "      <td>0.111111</td>\n",
       "      <td>0.037037</td>\n",
       "      <td>0.0</td>\n",
       "      <td>0.000000</td>\n",
       "      <td>0.0</td>\n",
       "      <td>0.0</td>\n",
       "      <td>0.000000</td>\n",
       "      <td>0.0</td>\n",
       "      <td>0.0</td>\n",
       "      <td>0.0</td>\n",
       "      <td>0.0</td>\n",
       "      <td>0.0</td>\n",
       "      <td>0.000000</td>\n",
       "      <td>0.0</td>\n",
       "      <td>0.0</td>\n",
       "      <td>0.037037</td>\n",
       "      <td>0.037037</td>\n",
       "      <td>0.0</td>\n",
       "      <td>0.0</td>\n",
       "    </tr>\n",
       "    <tr>\n",
       "      <th>3</th>\n",
       "      <td>Dayanand Colony</td>\n",
       "      <td>0.000000</td>\n",
       "      <td>0.0</td>\n",
       "      <td>0.000000</td>\n",
       "      <td>0.000000</td>\n",
       "      <td>0.033333</td>\n",
       "      <td>0.0</td>\n",
       "      <td>0.066667</td>\n",
       "      <td>0.0</td>\n",
       "      <td>0.000000</td>\n",
       "      <td>0.000000</td>\n",
       "      <td>0.000000</td>\n",
       "      <td>0.0</td>\n",
       "      <td>0.233333</td>\n",
       "      <td>0.033333</td>\n",
       "      <td>0.433333</td>\n",
       "      <td>0.166667</td>\n",
       "      <td>0.033333</td>\n",
       "      <td>0.0</td>\n",
       "      <td>0.000000</td>\n",
       "      <td>0.0</td>\n",
       "      <td>0.0</td>\n",
       "      <td>0.000000</td>\n",
       "      <td>0.0</td>\n",
       "      <td>0.0</td>\n",
       "      <td>0.0</td>\n",
       "      <td>0.0</td>\n",
       "      <td>0.0</td>\n",
       "      <td>0.000000</td>\n",
       "      <td>0.0</td>\n",
       "      <td>0.0</td>\n",
       "      <td>0.000000</td>\n",
       "      <td>0.000000</td>\n",
       "      <td>0.0</td>\n",
       "      <td>0.0</td>\n",
       "    </tr>\n",
       "    <tr>\n",
       "      <th>4</th>\n",
       "      <td>Defence Colony</td>\n",
       "      <td>0.028571</td>\n",
       "      <td>0.0</td>\n",
       "      <td>0.028571</td>\n",
       "      <td>0.000000</td>\n",
       "      <td>0.000000</td>\n",
       "      <td>0.0</td>\n",
       "      <td>0.085714</td>\n",
       "      <td>0.0</td>\n",
       "      <td>0.028571</td>\n",
       "      <td>0.028571</td>\n",
       "      <td>0.028571</td>\n",
       "      <td>0.0</td>\n",
       "      <td>0.114286</td>\n",
       "      <td>0.028571</td>\n",
       "      <td>0.371429</td>\n",
       "      <td>0.171429</td>\n",
       "      <td>0.028571</td>\n",
       "      <td>0.0</td>\n",
       "      <td>0.000000</td>\n",
       "      <td>0.0</td>\n",
       "      <td>0.0</td>\n",
       "      <td>0.028571</td>\n",
       "      <td>0.0</td>\n",
       "      <td>0.0</td>\n",
       "      <td>0.0</td>\n",
       "      <td>0.0</td>\n",
       "      <td>0.0</td>\n",
       "      <td>0.028571</td>\n",
       "      <td>0.0</td>\n",
       "      <td>0.0</td>\n",
       "      <td>0.000000</td>\n",
       "      <td>0.000000</td>\n",
       "      <td>0.0</td>\n",
       "      <td>0.0</td>\n",
       "    </tr>\n",
       "  </tbody>\n",
       "</table>\n",
       "</div>"
      ],
      "text/plain": [
       "        Neighborhood  Afghan Restaurant  American Restaurant  \\\n",
       "0          Alaknanda           0.000000                  0.0   \n",
       "1        Chhattarpur           0.000000                  0.0   \n",
       "2  Chittaranjan Park           0.000000                  0.0   \n",
       "3    Dayanand Colony           0.000000                  0.0   \n",
       "4     Defence Colony           0.028571                  0.0   \n",
       "\n",
       "   Asian Restaurant  Australian Restaurant  Bengali Restaurant  \\\n",
       "0          0.157895               0.000000            0.000000   \n",
       "1          0.000000               0.000000            0.000000   \n",
       "2          0.111111               0.037037            0.037037   \n",
       "3          0.000000               0.000000            0.033333   \n",
       "4          0.028571               0.000000            0.000000   \n",
       "\n",
       "   Burmese Restaurant  Chinese Restaurant  Comfort Food Restaurant  \\\n",
       "0                 0.0            0.157895                      0.0   \n",
       "1                 0.0            0.111111                      0.0   \n",
       "2                 0.0            0.148148                      0.0   \n",
       "3                 0.0            0.066667                      0.0   \n",
       "4                 0.0            0.085714                      0.0   \n",
       "\n",
       "   Dumpling Restaurant  Eastern European Restaurant  English Restaurant  \\\n",
       "0             0.000000                     0.000000            0.000000   \n",
       "1             0.000000                     0.000000            0.000000   \n",
       "2             0.000000                     0.000000            0.000000   \n",
       "3             0.000000                     0.000000            0.000000   \n",
       "4             0.028571                     0.028571            0.028571   \n",
       "\n",
       "   Falafel Restaurant  Fast Food Restaurant  French Restaurant  \\\n",
       "0                 0.0              0.105263           0.052632   \n",
       "1                 0.0              0.111111           0.000000   \n",
       "2                 0.0              0.148148           0.037037   \n",
       "3                 0.0              0.233333           0.033333   \n",
       "4                 0.0              0.114286           0.028571   \n",
       "\n",
       "   Indian Restaurant  Italian Restaurant  Japanese Restaurant  \\\n",
       "0           0.263158            0.105263             0.000000   \n",
       "1           0.333333            0.222222             0.111111   \n",
       "2           0.259259            0.111111             0.037037   \n",
       "3           0.433333            0.166667             0.033333   \n",
       "4           0.371429            0.171429             0.028571   \n",
       "\n",
       "   Korean Restaurant  Mediterranean Restaurant  Mexican Restaurant  \\\n",
       "0                0.0                  0.052632                 0.0   \n",
       "1                0.0                  0.000000                 0.0   \n",
       "2                0.0                  0.000000                 0.0   \n",
       "3                0.0                  0.000000                 0.0   \n",
       "4                0.0                  0.000000                 0.0   \n",
       "\n",
       "   Middle Eastern Restaurant  Modern European Restaurant  Mughlai Restaurant  \\\n",
       "0                        0.0                    0.000000                 0.0   \n",
       "1                        0.0                    0.000000                 0.0   \n",
       "2                        0.0                    0.000000                 0.0   \n",
       "3                        0.0                    0.000000                 0.0   \n",
       "4                        0.0                    0.028571                 0.0   \n",
       "\n",
       "   North Indian Restaurant  Northeast Indian Restaurant  \\\n",
       "0                      0.0                          0.0   \n",
       "1                      0.0                          0.0   \n",
       "2                      0.0                          0.0   \n",
       "3                      0.0                          0.0   \n",
       "4                      0.0                          0.0   \n",
       "\n",
       "   Scandinavian Restaurant  Seafood Restaurant  South Indian Restaurant  \\\n",
       "0                      0.0                 0.0                 0.000000   \n",
       "1                      0.0                 0.0                 0.000000   \n",
       "2                      0.0                 0.0                 0.000000   \n",
       "3                      0.0                 0.0                 0.000000   \n",
       "4                      0.0                 0.0                 0.028571   \n",
       "\n",
       "   Tapas Restaurant  Tex-Mex Restaurant  Thai Restaurant  Tibetan Restaurant  \\\n",
       "0               0.0                 0.0         0.052632            0.052632   \n",
       "1               0.0                 0.0         0.111111            0.000000   \n",
       "2               0.0                 0.0         0.037037            0.037037   \n",
       "3               0.0                 0.0         0.000000            0.000000   \n",
       "4               0.0                 0.0         0.000000            0.000000   \n",
       "\n",
       "   Turkish Restaurant  Vegetarian / Vegan Restaurant  \n",
       "0                 0.0                            0.0  \n",
       "1                 0.0                            0.0  \n",
       "2                 0.0                            0.0  \n",
       "3                 0.0                            0.0  \n",
       "4                 0.0                            0.0  "
      ]
     },
     "execution_count": 22,
     "metadata": {},
     "output_type": "execute_result"
    },
    {
     "data": {
      "text/plain": [
       "(40, 35)"
      ]
     },
     "execution_count": 22,
     "metadata": {},
     "output_type": "execute_result"
    }
   ],
   "source": [
    "# one hot encoding\n",
    "DelhiNW_onehot = pd.get_dummies(DelhiNW_venues[['Venue Category']], prefix=\"\", prefix_sep=\"\")\n",
    "\n",
    "# add neighborhood column back to dataframe\n",
    "DelhiNW_onehot['Neighborhood'] = DelhiNW_venues['Neighborhood'] \n",
    "\n",
    "# move neighborhood column to the first column\n",
    "fixed_columns = [DelhiNW_onehot.columns[-1]] + list(DelhiNW_onehot.columns[:-1])\n",
    "DelhiNW_onehot = DelhiNW_onehot[fixed_columns]\n",
    "\n",
    "# DelhiNW_onehot.head();\n",
    "DelhiNW_grouped = DelhiNW_onehot.groupby('Neighborhood').mean().reset_index()\n",
    "DelhiNW_grouped.head()\n",
    "DelhiNW_grouped.shape"
   ]
  },
  {
   "cell_type": "code",
   "execution_count": 24,
   "metadata": {},
   "outputs": [
    {
     "data": {
      "text/html": [
       "<div>\n",
       "<style scoped>\n",
       "    .dataframe tbody tr th:only-of-type {\n",
       "        vertical-align: middle;\n",
       "    }\n",
       "\n",
       "    .dataframe tbody tr th {\n",
       "        vertical-align: top;\n",
       "    }\n",
       "\n",
       "    .dataframe thead th {\n",
       "        text-align: right;\n",
       "    }\n",
       "</style>\n",
       "<table border=\"1\" class=\"dataframe\">\n",
       "  <thead>\n",
       "    <tr style=\"text-align: right;\">\n",
       "      <th></th>\n",
       "      <th>Neighborhood</th>\n",
       "      <th>1st Most Common Venue</th>\n",
       "      <th>2nd Most Common Venue</th>\n",
       "      <th>3rd Most Common Venue</th>\n",
       "      <th>4th Most Common Venue</th>\n",
       "      <th>5th Most Common Venue</th>\n",
       "    </tr>\n",
       "  </thead>\n",
       "  <tbody>\n",
       "    <tr>\n",
       "      <th>0</th>\n",
       "      <td>Alaknanda</td>\n",
       "      <td>Indian Restaurant</td>\n",
       "      <td>Chinese Restaurant</td>\n",
       "      <td>Asian Restaurant</td>\n",
       "      <td>Fast Food Restaurant</td>\n",
       "      <td>Italian Restaurant</td>\n",
       "    </tr>\n",
       "    <tr>\n",
       "      <th>1</th>\n",
       "      <td>Chhattarpur</td>\n",
       "      <td>Indian Restaurant</td>\n",
       "      <td>Italian Restaurant</td>\n",
       "      <td>Fast Food Restaurant</td>\n",
       "      <td>Japanese Restaurant</td>\n",
       "      <td>Thai Restaurant</td>\n",
       "    </tr>\n",
       "    <tr>\n",
       "      <th>2</th>\n",
       "      <td>Chittaranjan Park</td>\n",
       "      <td>Indian Restaurant</td>\n",
       "      <td>Fast Food Restaurant</td>\n",
       "      <td>Chinese Restaurant</td>\n",
       "      <td>Asian Restaurant</td>\n",
       "      <td>Italian Restaurant</td>\n",
       "    </tr>\n",
       "    <tr>\n",
       "      <th>3</th>\n",
       "      <td>Dayanand Colony</td>\n",
       "      <td>Indian Restaurant</td>\n",
       "      <td>Fast Food Restaurant</td>\n",
       "      <td>Italian Restaurant</td>\n",
       "      <td>Chinese Restaurant</td>\n",
       "      <td>French Restaurant</td>\n",
       "    </tr>\n",
       "    <tr>\n",
       "      <th>4</th>\n",
       "      <td>Defence Colony</td>\n",
       "      <td>Indian Restaurant</td>\n",
       "      <td>Italian Restaurant</td>\n",
       "      <td>Fast Food Restaurant</td>\n",
       "      <td>Chinese Restaurant</td>\n",
       "      <td>Japanese Restaurant</td>\n",
       "    </tr>\n",
       "  </tbody>\n",
       "</table>\n",
       "</div>"
      ],
      "text/plain": [
       "        Neighborhood 1st Most Common Venue 2nd Most Common Venue  \\\n",
       "0          Alaknanda     Indian Restaurant    Chinese Restaurant   \n",
       "1        Chhattarpur     Indian Restaurant    Italian Restaurant   \n",
       "2  Chittaranjan Park     Indian Restaurant  Fast Food Restaurant   \n",
       "3    Dayanand Colony     Indian Restaurant  Fast Food Restaurant   \n",
       "4     Defence Colony     Indian Restaurant    Italian Restaurant   \n",
       "\n",
       "  3rd Most Common Venue 4th Most Common Venue 5th Most Common Venue  \n",
       "0      Asian Restaurant  Fast Food Restaurant    Italian Restaurant  \n",
       "1  Fast Food Restaurant   Japanese Restaurant       Thai Restaurant  \n",
       "2    Chinese Restaurant      Asian Restaurant    Italian Restaurant  \n",
       "3    Italian Restaurant    Chinese Restaurant     French Restaurant  \n",
       "4  Fast Food Restaurant    Chinese Restaurant   Japanese Restaurant  "
      ]
     },
     "execution_count": 24,
     "metadata": {},
     "output_type": "execute_result"
    }
   ],
   "source": [
    "num_top_venues = 5\n",
    "\n",
    "# for hood in DelhiNW_grouped['Neighborhood']:\n",
    "#     print(\"----\"+hood+\"----\");\n",
    "#     temp = DelhiNW_grouped[DelhiNW_grouped['Neighborhood'] == hood].T.reset_index()\n",
    "#     temp.columns = ['venue','freq']\n",
    "#     temp = temp.iloc[1:]\n",
    "#     temp['freq'] = temp['freq'].astype(float)\n",
    "#     temp = temp.round({'freq': 2})\n",
    "#     print(temp.sort_values('freq', ascending=False).reset_index(drop=True).head(num_top_venues))\n",
    "#     print('\\n')\n",
    "\n",
    "def return_most_common_venues(row, num_top_venues):\n",
    "    row_categories = row.iloc[1:]\n",
    "    row_categories_sorted = row_categories.sort_values(ascending=False)\n",
    "    \n",
    "    return row_categories_sorted.index.values[0:num_top_venues]\n",
    "\n",
    "\n",
    "num_top_venues = 5\n",
    "\n",
    "indicators = ['st', 'nd', 'rd']\n",
    "\n",
    "# create columns according to number of top venues\n",
    "columns = ['Neighborhood']\n",
    "for ind in np.arange(num_top_venues):\n",
    "    try:\n",
    "        columns.append('{}{} Most Common Venue'.format(ind+1, indicators[ind]))\n",
    "    except:\n",
    "        columns.append('{}th Most Common Venue'.format(ind+1))\n",
    "\n",
    "# create a new dataframe\n",
    "neighborhoods_venues_sorted = pd.DataFrame(columns=columns)\n",
    "neighborhoods_venues_sorted['Neighborhood'] = DelhiNW_grouped['Neighborhood']\n",
    "\n",
    "for ind in np.arange(DelhiNW_grouped.shape[0]):\n",
    "    neighborhoods_venues_sorted.iloc[ind, 1:] = return_most_common_venues(DelhiNW_grouped.iloc[ind, :], num_top_venues)\n",
    "\n",
    "neighborhoods_venues_sorted.head(5)"
   ]
  },
  {
   "cell_type": "code",
   "execution_count": 25,
   "metadata": {},
   "outputs": [
    {
     "data": {
      "text/plain": [
       "KMeans(algorithm='auto', copy_x=True, init='k-means++', max_iter=300,\n",
       "    n_clusters=1, n_init=10, n_jobs=None, precompute_distances='auto',\n",
       "    random_state=None, tol=0.0001, verbose=0)"
      ]
     },
     "execution_count": 25,
     "metadata": {},
     "output_type": "execute_result"
    },
    {
     "data": {
      "text/plain": [
       "KMeans(algorithm='auto', copy_x=True, init='k-means++', max_iter=300,\n",
       "    n_clusters=2, n_init=10, n_jobs=None, precompute_distances='auto',\n",
       "    random_state=None, tol=0.0001, verbose=0)"
      ]
     },
     "execution_count": 25,
     "metadata": {},
     "output_type": "execute_result"
    },
    {
     "data": {
      "text/plain": [
       "KMeans(algorithm='auto', copy_x=True, init='k-means++', max_iter=300,\n",
       "    n_clusters=3, n_init=10, n_jobs=None, precompute_distances='auto',\n",
       "    random_state=None, tol=0.0001, verbose=0)"
      ]
     },
     "execution_count": 25,
     "metadata": {},
     "output_type": "execute_result"
    },
    {
     "data": {
      "text/plain": [
       "KMeans(algorithm='auto', copy_x=True, init='k-means++', max_iter=300,\n",
       "    n_clusters=4, n_init=10, n_jobs=None, precompute_distances='auto',\n",
       "    random_state=None, tol=0.0001, verbose=0)"
      ]
     },
     "execution_count": 25,
     "metadata": {},
     "output_type": "execute_result"
    },
    {
     "data": {
      "text/plain": [
       "KMeans(algorithm='auto', copy_x=True, init='k-means++', max_iter=300,\n",
       "    n_clusters=5, n_init=10, n_jobs=None, precompute_distances='auto',\n",
       "    random_state=None, tol=0.0001, verbose=0)"
      ]
     },
     "execution_count": 25,
     "metadata": {},
     "output_type": "execute_result"
    },
    {
     "data": {
      "text/plain": [
       "KMeans(algorithm='auto', copy_x=True, init='k-means++', max_iter=300,\n",
       "    n_clusters=6, n_init=10, n_jobs=None, precompute_distances='auto',\n",
       "    random_state=None, tol=0.0001, verbose=0)"
      ]
     },
     "execution_count": 25,
     "metadata": {},
     "output_type": "execute_result"
    },
    {
     "data": {
      "text/plain": [
       "KMeans(algorithm='auto', copy_x=True, init='k-means++', max_iter=300,\n",
       "    n_clusters=7, n_init=10, n_jobs=None, precompute_distances='auto',\n",
       "    random_state=None, tol=0.0001, verbose=0)"
      ]
     },
     "execution_count": 25,
     "metadata": {},
     "output_type": "execute_result"
    },
    {
     "data": {
      "text/plain": [
       "KMeans(algorithm='auto', copy_x=True, init='k-means++', max_iter=300,\n",
       "    n_clusters=8, n_init=10, n_jobs=None, precompute_distances='auto',\n",
       "    random_state=None, tol=0.0001, verbose=0)"
      ]
     },
     "execution_count": 25,
     "metadata": {},
     "output_type": "execute_result"
    },
    {
     "data": {
      "text/plain": [
       "KMeans(algorithm='auto', copy_x=True, init='k-means++', max_iter=300,\n",
       "    n_clusters=9, n_init=10, n_jobs=None, precompute_distances='auto',\n",
       "    random_state=None, tol=0.0001, verbose=0)"
      ]
     },
     "execution_count": 25,
     "metadata": {},
     "output_type": "execute_result"
    },
    {
     "data": {
      "text/plain": [
       "<Figure size 360x216 with 0 Axes>"
      ]
     },
     "execution_count": 25,
     "metadata": {},
     "output_type": "execute_result"
    },
    {
     "data": {
      "text/plain": [
       "[<matplotlib.lines.Line2D at 0x7f67f7492ba8>]"
      ]
     },
     "execution_count": 25,
     "metadata": {},
     "output_type": "execute_result"
    },
    {
     "data": {
      "text/plain": [
       "Text(0.5, 0, 'k')"
      ]
     },
     "execution_count": 25,
     "metadata": {},
     "output_type": "execute_result"
    },
    {
     "data": {
      "text/plain": [
       "Text(0, 0.5, 'Distortion')"
      ]
     },
     "execution_count": 25,
     "metadata": {},
     "output_type": "execute_result"
    },
    {
     "data": {
      "text/plain": [
       "Text(0.5, 1.0, 'The Elbow Method showing the optimal k')"
      ]
     },
     "execution_count": 25,
     "metadata": {},
     "output_type": "execute_result"
    },
    {
     "data": {
      "image/png": "[encoded data removed]",
      "text/plain": [
       "<Figure size 360x216 with 1 Axes>"
      ]
     },
     "metadata": {
      "needs_background": "light"
     },
     "output_type": "display_data"
    }
   ],
   "source": [
    "#Elbow chart for optimizing K\n",
    "import matplotlib.pyplot as plt\n",
    "DelhiNW_grouped_clustering1 = DelhiNW_grouped.drop('Neighborhood', 1)\n",
    "distortions = []\n",
    "K = range(1,10)\n",
    "for k in K:\n",
    "    kmeanModel = KMeans(n_clusters=k)\n",
    "    kmeanModel.fit(DelhiNW_grouped_clustering1)\n",
    "    distortions.append(kmeanModel.inertia_)\n",
    "    \n",
    "plt.figure(figsize=(5,3))\n",
    "plt.plot(K, distortions, 'bx-')\n",
    "plt.xlabel('k')\n",
    "plt.ylabel('Distortion')\n",
    "plt.title('The Elbow Method showing the optimal k')\n",
    "plt.show()"
   ]
  },
  {
   "cell_type": "code",
   "execution_count": 26,
   "metadata": {},
   "outputs": [
    {
     "data": {
      "text/plain": [
       "array([0, 3, 0, 3, 3, 3, 3, 3, 0, 0], dtype=int32)"
      ]
     },
     "execution_count": 26,
     "metadata": {},
     "output_type": "execute_result"
    },
    {
     "data": {
      "text/plain": [
       "pandas.core.frame.DataFrame"
      ]
     },
     "execution_count": 26,
     "metadata": {},
     "output_type": "execute_result"
    },
    {
     "data": {
      "text/plain": [
       "(43, 10)"
      ]
     },
     "execution_count": 26,
     "metadata": {},
     "output_type": "execute_result"
    },
    {
     "data": {
      "text/plain": [
       "pandas.core.frame.DataFrame"
      ]
     },
     "execution_count": 26,
     "metadata": {},
     "output_type": "execute_result"
    },
    {
     "data": {
      "text/plain": [
       "(40, 10)"
      ]
     },
     "execution_count": 26,
     "metadata": {},
     "output_type": "execute_result"
    },
    {
     "data": {
      "text/html": [
       "<div>\n",
       "<style scoped>\n",
       "    .dataframe tbody tr th:only-of-type {\n",
       "        vertical-align: middle;\n",
       "    }\n",
       "\n",
       "    .dataframe tbody tr th {\n",
       "        vertical-align: top;\n",
       "    }\n",
       "\n",
       "    .dataframe thead th {\n",
       "        text-align: right;\n",
       "    }\n",
       "</style>\n",
       "<table border=\"1\" class=\"dataframe\">\n",
       "  <thead>\n",
       "    <tr style=\"text-align: right;\">\n",
       "      <th></th>\n",
       "      <th>Borough</th>\n",
       "      <th>Neighborhood</th>\n",
       "      <th>latitude</th>\n",
       "      <th>longitude</th>\n",
       "      <th>Cluster Labels</th>\n",
       "      <th>1st Most Common Venue</th>\n",
       "      <th>2nd Most Common Venue</th>\n",
       "      <th>3rd Most Common Venue</th>\n",
       "      <th>4th Most Common Venue</th>\n",
       "      <th>5th Most Common Venue</th>\n",
       "    </tr>\n",
       "  </thead>\n",
       "  <tbody>\n",
       "    <tr>\n",
       "      <th>0</th>\n",
       "      <td>South Delhi</td>\n",
       "      <td>Alaknanda</td>\n",
       "      <td>28.529336</td>\n",
       "      <td>77.251632</td>\n",
       "      <td>0.0</td>\n",
       "      <td>Indian Restaurant</td>\n",
       "      <td>Chinese Restaurant</td>\n",
       "      <td>Asian Restaurant</td>\n",
       "      <td>Fast Food Restaurant</td>\n",
       "      <td>Italian Restaurant</td>\n",
       "    </tr>\n",
       "    <tr>\n",
       "      <th>1</th>\n",
       "      <td>South Delhi</td>\n",
       "      <td>Chhattarpur</td>\n",
       "      <td>28.507007</td>\n",
       "      <td>77.175417</td>\n",
       "      <td>3.0</td>\n",
       "      <td>Indian Restaurant</td>\n",
       "      <td>Italian Restaurant</td>\n",
       "      <td>Fast Food Restaurant</td>\n",
       "      <td>Japanese Restaurant</td>\n",
       "      <td>Thai Restaurant</td>\n",
       "    </tr>\n",
       "  </tbody>\n",
       "</table>\n",
       "</div>"
      ],
      "text/plain": [
       "       Borough Neighborhood   latitude  longitude  Cluster Labels  \\\n",
       "0  South Delhi    Alaknanda  28.529336  77.251632             0.0   \n",
       "1  South Delhi  Chhattarpur  28.507007  77.175417             3.0   \n",
       "\n",
       "  1st Most Common Venue 2nd Most Common Venue 3rd Most Common Venue  \\\n",
       "0     Indian Restaurant    Chinese Restaurant      Asian Restaurant   \n",
       "1     Indian Restaurant    Italian Restaurant  Fast Food Restaurant   \n",
       "\n",
       "  4th Most Common Venue 5th Most Common Venue  \n",
       "0  Fast Food Restaurant    Italian Restaurant  \n",
       "1   Japanese Restaurant       Thai Restaurant  "
      ]
     },
     "execution_count": 26,
     "metadata": {},
     "output_type": "execute_result"
    },
    {
     "data": {
      "text/html": [
       "<div>\n",
       "<style scoped>\n",
       "    .dataframe tbody tr th:only-of-type {\n",
       "        vertical-align: middle;\n",
       "    }\n",
       "\n",
       "    .dataframe tbody tr th {\n",
       "        vertical-align: top;\n",
       "    }\n",
       "\n",
       "    .dataframe thead th {\n",
       "        text-align: right;\n",
       "    }\n",
       "</style>\n",
       "<table border=\"1\" class=\"dataframe\">\n",
       "  <thead>\n",
       "    <tr style=\"text-align: right;\">\n",
       "      <th></th>\n",
       "      <th>Borough</th>\n",
       "      <th>Neighborhood</th>\n",
       "      <th>latitude</th>\n",
       "      <th>longitude</th>\n",
       "      <th>Cluster Labels</th>\n",
       "      <th>1st Most Common Venue</th>\n",
       "      <th>2nd Most Common Venue</th>\n",
       "      <th>3rd Most Common Venue</th>\n",
       "      <th>4th Most Common Venue</th>\n",
       "      <th>5th Most Common Venue</th>\n",
       "    </tr>\n",
       "  </thead>\n",
       "  <tbody>\n",
       "    <tr>\n",
       "      <th>0</th>\n",
       "      <td>South Delhi</td>\n",
       "      <td>Alaknanda</td>\n",
       "      <td>28.529336</td>\n",
       "      <td>77.251632</td>\n",
       "      <td>0</td>\n",
       "      <td>Indian Restaurant</td>\n",
       "      <td>Chinese Restaurant</td>\n",
       "      <td>Asian Restaurant</td>\n",
       "      <td>Fast Food Restaurant</td>\n",
       "      <td>Italian Restaurant</td>\n",
       "    </tr>\n",
       "    <tr>\n",
       "      <th>1</th>\n",
       "      <td>South Delhi</td>\n",
       "      <td>Chhattarpur</td>\n",
       "      <td>28.507007</td>\n",
       "      <td>77.175417</td>\n",
       "      <td>3</td>\n",
       "      <td>Indian Restaurant</td>\n",
       "      <td>Italian Restaurant</td>\n",
       "      <td>Fast Food Restaurant</td>\n",
       "      <td>Japanese Restaurant</td>\n",
       "      <td>Thai Restaurant</td>\n",
       "    </tr>\n",
       "    <tr>\n",
       "      <th>2</th>\n",
       "      <td>South Delhi</td>\n",
       "      <td>Chittaranjan Park</td>\n",
       "      <td>28.538752</td>\n",
       "      <td>77.249249</td>\n",
       "      <td>0</td>\n",
       "      <td>Indian Restaurant</td>\n",
       "      <td>Fast Food Restaurant</td>\n",
       "      <td>Chinese Restaurant</td>\n",
       "      <td>Asian Restaurant</td>\n",
       "      <td>Italian Restaurant</td>\n",
       "    </tr>\n",
       "    <tr>\n",
       "      <th>3</th>\n",
       "      <td>South Delhi</td>\n",
       "      <td>Dayanand Colony</td>\n",
       "      <td>28.562200</td>\n",
       "      <td>77.247613</td>\n",
       "      <td>3</td>\n",
       "      <td>Indian Restaurant</td>\n",
       "      <td>Fast Food Restaurant</td>\n",
       "      <td>Italian Restaurant</td>\n",
       "      <td>Chinese Restaurant</td>\n",
       "      <td>French Restaurant</td>\n",
       "    </tr>\n",
       "    <tr>\n",
       "      <th>4</th>\n",
       "      <td>South Delhi</td>\n",
       "      <td>Defence Colony</td>\n",
       "      <td>28.571791</td>\n",
       "      <td>77.232010</td>\n",
       "      <td>3</td>\n",
       "      <td>Indian Restaurant</td>\n",
       "      <td>Italian Restaurant</td>\n",
       "      <td>Fast Food Restaurant</td>\n",
       "      <td>Chinese Restaurant</td>\n",
       "      <td>Japanese Restaurant</td>\n",
       "    </tr>\n",
       "  </tbody>\n",
       "</table>\n",
       "</div>"
      ],
      "text/plain": [
       "       Borough       Neighborhood   latitude  longitude  Cluster Labels  \\\n",
       "0  South Delhi          Alaknanda  28.529336  77.251632               0   \n",
       "1  South Delhi        Chhattarpur  28.507007  77.175417               3   \n",
       "2  South Delhi  Chittaranjan Park  28.538752  77.249249               0   \n",
       "3  South Delhi    Dayanand Colony  28.562200  77.247613               3   \n",
       "4  South Delhi     Defence Colony  28.571791  77.232010               3   \n",
       "\n",
       "  1st Most Common Venue 2nd Most Common Venue 3rd Most Common Venue  \\\n",
       "0     Indian Restaurant    Chinese Restaurant      Asian Restaurant   \n",
       "1     Indian Restaurant    Italian Restaurant  Fast Food Restaurant   \n",
       "2     Indian Restaurant  Fast Food Restaurant    Chinese Restaurant   \n",
       "3     Indian Restaurant  Fast Food Restaurant    Italian Restaurant   \n",
       "4     Indian Restaurant    Italian Restaurant  Fast Food Restaurant   \n",
       "\n",
       "  4th Most Common Venue 5th Most Common Venue  \n",
       "0  Fast Food Restaurant    Italian Restaurant  \n",
       "1   Japanese Restaurant       Thai Restaurant  \n",
       "2      Asian Restaurant    Italian Restaurant  \n",
       "3    Chinese Restaurant     French Restaurant  \n",
       "4    Chinese Restaurant   Japanese Restaurant  "
      ]
     },
     "execution_count": 26,
     "metadata": {},
     "output_type": "execute_result"
    }
   ],
   "source": [
    "# set number of clusters\n",
    "kclusters = 5\n",
    "\n",
    "DelhiNW_grouped_clustering1 = DelhiNW_grouped.drop('Neighborhood', 1)\n",
    "\n",
    "# run k-means clustering\n",
    "kmeans = KMeans(n_clusters=kclusters, random_state=0).fit(DelhiNW_grouped_clustering1)\n",
    "\n",
    "# check cluster labels generated for each row in the dataframe\n",
    "kmeans.labels_[0:10] \n",
    "\n",
    "# add clustering labels\n",
    "neighborhoods_venues_sorted.insert(0, 'Cluster Labels', kmeans.labels_)\n",
    "\n",
    "DelhiNW_merged = DelhiNW_data\n",
    "\n",
    "# merge toronto_grouped with toronto_data to add latitude/longitude for each neighborhood\n",
    "DelhiNW_merged = DelhiNW_merged.join(neighborhoods_venues_sorted.set_index('Neighborhood'), on='Neighborhood')\n",
    "\n",
    "# DelhiNW_merged # check the last columns!\n",
    "type(DelhiNW_merged)\n",
    "DelhiNW_merged.shape\n",
    "#-------------------------------------------------------------------------------------------------------------------------\n",
    "type(DelhiNW_merged)\n",
    "DelhiNW_merged = DelhiNW_merged.dropna()  # check the last columns!\n",
    "DelhiNW_merged.shape\n",
    "DelhiNW_merged.head(2)\n",
    "DelhiNW_merged = DelhiNW_merged.astype({'Cluster Labels': 'int32'})\n",
    "DelhiNW_merged.head()"
   ]
  },
  {
   "cell_type": "code",
   "execution_count": 27,
   "metadata": {},
   "outputs": [
    {
     "name": "stdout",
     "output_type": "stream",
     "text": [
      "5\n"
     ]
    },
    {
     "data": {
      "text/plain": [
       "['#8000ff', '#00b5eb', '#80ffb4', '#ffb360', '#ff0000']"
      ]
     },
     "execution_count": 27,
     "metadata": {},
     "output_type": "execute_result"
    },
    {
     "data": {
      "text/plain": [
       "<folium.features.CircleMarker at 0x7f67f739e550>"
      ]
     },
     "execution_count": 27,
     "metadata": {},
     "output_type": "execute_result"
    },
    {
     "data": {
      "text/plain": [
       "<folium.features.CircleMarker at 0x7f67f739ee48>"
      ]
     },
     "execution_count": 27,
     "metadata": {},
     "output_type": "execute_result"
    },
    {
     "data": {
      "text/plain": [
       "<folium.features.CircleMarker at 0x7f67f739eb00>"
      ]
     },
     "execution_count": 27,
     "metadata": {},
     "output_type": "execute_result"
    },
    {
     "data": {
      "text/plain": [
       "<folium.features.CircleMarker at 0x7f67f739eeb8>"
      ]
     },
     "execution_count": 27,
     "metadata": {},
     "output_type": "execute_result"
    },
    {
     "data": {
      "text/plain": [
       "<folium.features.CircleMarker at 0x7f67f73979e8>"
      ]
     },
     "execution_count": 27,
     "metadata": {},
     "output_type": "execute_result"
    },
    {
     "data": {
      "text/plain": [
       "<folium.features.CircleMarker at 0x7f67f73a78d0>"
      ]
     },
     "execution_count": 27,
     "metadata": {},
     "output_type": "execute_result"
    },
    {
     "data": {
      "text/plain": [
       "<folium.features.CircleMarker at 0x7f67f73a7a20>"
      ]
     },
     "execution_count": 27,
     "metadata": {},
     "output_type": "execute_result"
    },
    {
     "data": {
      "text/plain": [
       "<folium.features.CircleMarker at 0x7f67f7397c88>"
      ]
     },
     "execution_count": 27,
     "metadata": {},
     "output_type": "execute_result"
    },
    {
     "data": {
      "text/plain": [
       "<folium.features.CircleMarker at 0x7f67f7397630>"
      ]
     },
     "execution_count": 27,
     "metadata": {},
     "output_type": "execute_result"
    },
    {
     "data": {
      "text/plain": [
       "<folium.features.CircleMarker at 0x7f67f7397d68>"
      ]
     },
     "execution_count": 27,
     "metadata": {},
     "output_type": "execute_result"
    },
    {
     "data": {
      "text/plain": [
       "<folium.features.CircleMarker at 0x7f67f73979b0>"
      ]
     },
     "execution_count": 27,
     "metadata": {},
     "output_type": "execute_result"
    },
    {
     "data": {
      "text/plain": [
       "<folium.features.CircleMarker at 0x7f67f73a7908>"
      ]
     },
     "execution_count": 27,
     "metadata": {},
     "output_type": "execute_result"
    },
    {
     "data": {
      "text/plain": [
       "<folium.features.CircleMarker at 0x7f67f7397b38>"
      ]
     },
     "execution_count": 27,
     "metadata": {},
     "output_type": "execute_result"
    },
    {
     "data": {
      "text/plain": [
       "<folium.features.CircleMarker at 0x7f67f7397f60>"
      ]
     },
     "execution_count": 27,
     "metadata": {},
     "output_type": "execute_result"
    },
    {
     "data": {
      "text/plain": [
       "<folium.features.CircleMarker at 0x7f67f73a7518>"
      ]
     },
     "execution_count": 27,
     "metadata": {},
     "output_type": "execute_result"
    },
    {
     "data": {
      "text/plain": [
       "<folium.features.CircleMarker at 0x7f67f73a7080>"
      ]
     },
     "execution_count": 27,
     "metadata": {},
     "output_type": "execute_result"
    },
    {
     "data": {
      "text/plain": [
       "<folium.features.CircleMarker at 0x7f67f7335358>"
      ]
     },
     "execution_count": 27,
     "metadata": {},
     "output_type": "execute_result"
    },
    {
     "data": {
      "text/plain": [
       "<folium.features.CircleMarker at 0x7f67f73354e0>"
      ]
     },
     "execution_count": 27,
     "metadata": {},
     "output_type": "execute_result"
    },
    {
     "data": {
      "text/plain": [
       "<folium.features.CircleMarker at 0x7f67f7335470>"
      ]
     },
     "execution_count": 27,
     "metadata": {},
     "output_type": "execute_result"
    },
    {
     "data": {
      "text/plain": [
       "<folium.features.CircleMarker at 0x7f67f7335518>"
      ]
     },
     "execution_count": 27,
     "metadata": {},
     "output_type": "execute_result"
    },
    {
     "data": {
      "text/plain": [
       "<folium.features.CircleMarker at 0x7f67f7335080>"
      ]
     },
     "execution_count": 27,
     "metadata": {},
     "output_type": "execute_result"
    },
    {
     "data": {
      "text/plain": [
       "<folium.features.CircleMarker at 0x7f67f73353c8>"
      ]
     },
     "execution_count": 27,
     "metadata": {},
     "output_type": "execute_result"
    },
    {
     "data": {
      "text/plain": [
       "<folium.features.CircleMarker at 0x7f67f7365c88>"
      ]
     },
     "execution_count": 27,
     "metadata": {},
     "output_type": "execute_result"
    },
    {
     "data": {
      "text/plain": [
       "<folium.features.CircleMarker at 0x7f67f7365208>"
      ]
     },
     "execution_count": 27,
     "metadata": {},
     "output_type": "execute_result"
    },
    {
     "data": {
      "text/plain": [
       "<folium.features.CircleMarker at 0x7f67f73653c8>"
      ]
     },
     "execution_count": 27,
     "metadata": {},
     "output_type": "execute_result"
    },
    {
     "data": {
      "text/plain": [
       "<folium.features.CircleMarker at 0x7f67f73654a8>"
      ]
     },
     "execution_count": 27,
     "metadata": {},
     "output_type": "execute_result"
    },
    {
     "data": {
      "text/plain": [
       "<folium.features.CircleMarker at 0x7f67f7365470>"
      ]
     },
     "execution_count": 27,
     "metadata": {},
     "output_type": "execute_result"
    },
    {
     "data": {
      "text/plain": [
       "<folium.features.CircleMarker at 0x7f67f7365278>"
      ]
     },
     "execution_count": 27,
     "metadata": {},
     "output_type": "execute_result"
    },
    {
     "data": {
      "text/plain": [
       "<folium.features.CircleMarker at 0x7f67f72eb5f8>"
      ]
     },
     "execution_count": 27,
     "metadata": {},
     "output_type": "execute_result"
    },
    {
     "data": {
      "text/plain": [
       "<folium.features.CircleMarker at 0x7f67f72eb550>"
      ]
     },
     "execution_count": 27,
     "metadata": {},
     "output_type": "execute_result"
    },
    {
     "data": {
      "text/plain": [
       "<folium.features.CircleMarker at 0x7f67f72ebd68>"
      ]
     },
     "execution_count": 27,
     "metadata": {},
     "output_type": "execute_result"
    },
    {
     "data": {
      "text/plain": [
       "<folium.features.CircleMarker at 0x7f67f72eb8d0>"
      ]
     },
     "execution_count": 27,
     "metadata": {},
     "output_type": "execute_result"
    },
    {
     "data": {
      "text/plain": [
       "<folium.features.CircleMarker at 0x7f67f72ebda0>"
      ]
     },
     "execution_count": 27,
     "metadata": {},
     "output_type": "execute_result"
    },
    {
     "data": {
      "text/plain": [
       "<folium.features.CircleMarker at 0x7f67f72f7710>"
      ]
     },
     "execution_count": 27,
     "metadata": {},
     "output_type": "execute_result"
    },
    {
     "data": {
      "text/plain": [
       "<folium.features.CircleMarker at 0x7f67f72eb0f0>"
      ]
     },
     "execution_count": 27,
     "metadata": {},
     "output_type": "execute_result"
    },
    {
     "data": {
      "text/plain": [
       "<folium.features.CircleMarker at 0x7f67f72f7470>"
      ]
     },
     "execution_count": 27,
     "metadata": {},
     "output_type": "execute_result"
    },
    {
     "data": {
      "text/plain": [
       "<folium.features.CircleMarker at 0x7f67f72f7668>"
      ]
     },
     "execution_count": 27,
     "metadata": {},
     "output_type": "execute_result"
    },
    {
     "data": {
      "text/plain": [
       "<folium.features.CircleMarker at 0x7f67f72f7e48>"
      ]
     },
     "execution_count": 27,
     "metadata": {},
     "output_type": "execute_result"
    },
    {
     "data": {
      "text/plain": [
       "<folium.features.CircleMarker at 0x7f67f7306f60>"
      ]
     },
     "execution_count": 27,
     "metadata": {},
     "output_type": "execute_result"
    },
    {
     "data": {
      "text/plain": [
       "<folium.features.CircleMarker at 0x7f67f72f7908>"
      ]
     },
     "execution_count": 27,
     "metadata": {},
     "output_type": "execute_result"
    },
    {
     "data": {
      "text/html": [
       "<div style=\"width:100%;\"><div style=\"position:relative;width:100%;height:0;padding-bottom:60%;\"><span style=\"color:#565656\">Make this Notebook Trusted to load map: File -> Trust Notebook</span><iframe src=\"about:blank\" style=\"position:absolute;width:100%;height:100%;left:0;top:0;border:none !important;\" data-html=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 onload=\"this.contentDocument.open();this.contentDocument.write(atob(this.getAttribute('data-html')));this.contentDocument.close();\" allowfullscreen webkitallowfullscreen mozallowfullscreen></iframe></div></div>"
      ],
      "text/plain": [
       "<folium.folium.Map at 0x7f67f739e198>"
      ]
     },
     "execution_count": 27,
     "metadata": {},
     "output_type": "execute_result"
    }
   ],
   "source": [
    "#--------------------------------------------------------------------------------------------------------------------------\n",
    "# create map for clusters\n",
    "print(kclusters)\n",
    "map_clusters = folium.Map(location=[latitude, longitude], zoom_start=11)\n",
    "# set color scheme for the clusters\n",
    "x = np.arange(kclusters)\n",
    "ys = [i + x + (i*x)**2 for i in range(kclusters)]\n",
    "colors_array = cm.rainbow(np.linspace(0, 1, len(ys)))\n",
    "rainbow = [colors.rgb2hex(i) for i in colors_array]\n",
    "rainbow\n",
    "# add markers to the map\n",
    "markers_colors = []\n",
    "for lat, lon, poi, cluster in zip(DelhiNW_merged['latitude'], DelhiNW_merged['longitude'], DelhiNW_merged['Neighborhood'], DelhiNW_merged['Cluster Labels']):\n",
    "    label = folium.Popup(str(poi) + ' Cluster ' + str(cluster), parse_html=True)\n",
    "    folium.CircleMarker(\n",
    "        [lat, lon],\n",
    "        radius=5,\n",
    "        popup=label,\n",
    "        color=rainbow[cluster-1],\n",
    "        fill=True,\n",
    "        fill_color=rainbow[cluster-1],\n",
    "        fill_opacity=0.7).add_to(map_clusters)\n",
    "\n",
    "       \n",
    "map_clusters"
   ]
  },
  {
   "cell_type": "code",
   "execution_count": 28,
   "metadata": {},
   "outputs": [
    {
     "data": {
      "text/plain": [
       "pandas.core.frame.DataFrame"
      ]
     },
     "execution_count": 28,
     "metadata": {},
     "output_type": "execute_result"
    },
    {
     "data": {
      "text/plain": [
       "(40, 10)"
      ]
     },
     "execution_count": 28,
     "metadata": {},
     "output_type": "execute_result"
    }
   ],
   "source": [
    "type(DelhiNW_merged)\n",
    "DelhiNW_merged = DelhiNW_merged.dropna()  \n",
    "DelhiNW_merged.shape"
   ]
  },
  {
   "cell_type": "code",
   "execution_count": 30,
   "metadata": {},
   "outputs": [
    {
     "data": {
      "text/html": [
       "<div>\n",
       "<style scoped>\n",
       "    .dataframe tbody tr th:only-of-type {\n",
       "        vertical-align: middle;\n",
       "    }\n",
       "\n",
       "    .dataframe tbody tr th {\n",
       "        vertical-align: top;\n",
       "    }\n",
       "\n",
       "    .dataframe thead th {\n",
       "        text-align: right;\n",
       "    }\n",
       "</style>\n",
       "<table border=\"1\" class=\"dataframe\">\n",
       "  <thead>\n",
       "    <tr style=\"text-align: right;\">\n",
       "      <th></th>\n",
       "      <th>Neighborhood</th>\n",
       "      <th>1st Most Common Venue</th>\n",
       "      <th>2nd Most Common Venue</th>\n",
       "      <th>3rd Most Common Venue</th>\n",
       "      <th>4th Most Common Venue</th>\n",
       "      <th>5th Most Common Venue</th>\n",
       "    </tr>\n",
       "  </thead>\n",
       "  <tbody>\n",
       "    <tr>\n",
       "      <th>0</th>\n",
       "      <td>Alaknanda</td>\n",
       "      <td>Indian Restaurant</td>\n",
       "      <td>Chinese Restaurant</td>\n",
       "      <td>Asian Restaurant</td>\n",
       "      <td>Fast Food Restaurant</td>\n",
       "      <td>Italian Restaurant</td>\n",
       "    </tr>\n",
       "    <tr>\n",
       "      <th>2</th>\n",
       "      <td>Chittaranjan Park</td>\n",
       "      <td>Indian Restaurant</td>\n",
       "      <td>Fast Food Restaurant</td>\n",
       "      <td>Chinese Restaurant</td>\n",
       "      <td>Asian Restaurant</td>\n",
       "      <td>Italian Restaurant</td>\n",
       "    </tr>\n",
       "    <tr>\n",
       "      <th>8</th>\n",
       "      <td>Green Park</td>\n",
       "      <td>Indian Restaurant</td>\n",
       "      <td>Chinese Restaurant</td>\n",
       "      <td>Italian Restaurant</td>\n",
       "      <td>Asian Restaurant</td>\n",
       "      <td>Mediterranean Restaurant</td>\n",
       "    </tr>\n",
       "    <tr>\n",
       "      <th>9</th>\n",
       "      <td>Gulmohar Park</td>\n",
       "      <td>Indian Restaurant</td>\n",
       "      <td>Chinese Restaurant</td>\n",
       "      <td>Mediterranean Restaurant</td>\n",
       "      <td>Italian Restaurant</td>\n",
       "      <td>Japanese Restaurant</td>\n",
       "    </tr>\n",
       "    <tr>\n",
       "      <th>10</th>\n",
       "      <td>Hauz Khas</td>\n",
       "      <td>Indian Restaurant</td>\n",
       "      <td>Asian Restaurant</td>\n",
       "      <td>Chinese Restaurant</td>\n",
       "      <td>Mediterranean Restaurant</td>\n",
       "      <td>Japanese Restaurant</td>\n",
       "    </tr>\n",
       "    <tr>\n",
       "      <th>11</th>\n",
       "      <td>Hauz Khas Village</td>\n",
       "      <td>Indian Restaurant</td>\n",
       "      <td>Asian Restaurant</td>\n",
       "      <td>Chinese Restaurant</td>\n",
       "      <td>Italian Restaurant</td>\n",
       "      <td>American Restaurant</td>\n",
       "    </tr>\n",
       "    <tr>\n",
       "      <th>15</th>\n",
       "      <td>Jor Bagh</td>\n",
       "      <td>Indian Restaurant</td>\n",
       "      <td>Eastern European Restaurant</td>\n",
       "      <td>Chinese Restaurant</td>\n",
       "      <td>Japanese Restaurant</td>\n",
       "      <td>Fast Food Restaurant</td>\n",
       "    </tr>\n",
       "    <tr>\n",
       "      <th>18</th>\n",
       "      <td>Khirki Village</td>\n",
       "      <td>Indian Restaurant</td>\n",
       "      <td>Chinese Restaurant</td>\n",
       "      <td>Asian Restaurant</td>\n",
       "      <td>American Restaurant</td>\n",
       "      <td>Fast Food Restaurant</td>\n",
       "    </tr>\n",
       "    <tr>\n",
       "      <th>20</th>\n",
       "      <td>Lodi Colony</td>\n",
       "      <td>Indian Restaurant</td>\n",
       "      <td>Chinese Restaurant</td>\n",
       "      <td>Italian Restaurant</td>\n",
       "      <td>Mediterranean Restaurant</td>\n",
       "      <td>Japanese Restaurant</td>\n",
       "    </tr>\n",
       "    <tr>\n",
       "      <th>22</th>\n",
       "      <td>Malviya Nagar</td>\n",
       "      <td>Indian Restaurant</td>\n",
       "      <td>Chinese Restaurant</td>\n",
       "      <td>Asian Restaurant</td>\n",
       "      <td>American Restaurant</td>\n",
       "      <td>Fast Food Restaurant</td>\n",
       "    </tr>\n",
       "    <tr>\n",
       "      <th>24</th>\n",
       "      <td>Neeti Bagh</td>\n",
       "      <td>Indian Restaurant</td>\n",
       "      <td>Chinese Restaurant</td>\n",
       "      <td>Italian Restaurant</td>\n",
       "      <td>Korean Restaurant</td>\n",
       "      <td>French Restaurant</td>\n",
       "    </tr>\n",
       "    <tr>\n",
       "      <th>26</th>\n",
       "      <td>Netaji Nagar</td>\n",
       "      <td>Indian Restaurant</td>\n",
       "      <td>Asian Restaurant</td>\n",
       "      <td>Fast Food Restaurant</td>\n",
       "      <td>Chinese Restaurant</td>\n",
       "      <td>South Indian Restaurant</td>\n",
       "    </tr>\n",
       "    <tr>\n",
       "      <th>28</th>\n",
       "      <td>Nizamuddin West</td>\n",
       "      <td>Indian Restaurant</td>\n",
       "      <td>Italian Restaurant</td>\n",
       "      <td>Chinese Restaurant</td>\n",
       "      <td>Fast Food Restaurant</td>\n",
       "      <td>English Restaurant</td>\n",
       "    </tr>\n",
       "    <tr>\n",
       "      <th>30</th>\n",
       "      <td>Safdarjung Enclave</td>\n",
       "      <td>Indian Restaurant</td>\n",
       "      <td>Fast Food Restaurant</td>\n",
       "      <td>Asian Restaurant</td>\n",
       "      <td>Italian Restaurant</td>\n",
       "      <td>Japanese Restaurant</td>\n",
       "    </tr>\n",
       "    <tr>\n",
       "      <th>31</th>\n",
       "      <td>Sainik Farm</td>\n",
       "      <td>Indian Restaurant</td>\n",
       "      <td>Thai Restaurant</td>\n",
       "      <td>Asian Restaurant</td>\n",
       "      <td>Falafel Restaurant</td>\n",
       "      <td>Dumpling Restaurant</td>\n",
       "    </tr>\n",
       "    <tr>\n",
       "      <th>32</th>\n",
       "      <td>Saket</td>\n",
       "      <td>Indian Restaurant</td>\n",
       "      <td>Asian Restaurant</td>\n",
       "      <td>Chinese Restaurant</td>\n",
       "      <td>American Restaurant</td>\n",
       "      <td>Fast Food Restaurant</td>\n",
       "    </tr>\n",
       "    <tr>\n",
       "      <th>33</th>\n",
       "      <td>Sangam Vihar</td>\n",
       "      <td>Indian Restaurant</td>\n",
       "      <td>Chinese Restaurant</td>\n",
       "      <td>Vegetarian / Vegan Restaurant</td>\n",
       "      <td>Dumpling Restaurant</td>\n",
       "      <td>French Restaurant</td>\n",
       "    </tr>\n",
       "    <tr>\n",
       "      <th>35</th>\n",
       "      <td>Sarojini Nagar</td>\n",
       "      <td>Indian Restaurant</td>\n",
       "      <td>Fast Food Restaurant</td>\n",
       "      <td>Chinese Restaurant</td>\n",
       "      <td>Japanese Restaurant</td>\n",
       "      <td>Seafood Restaurant</td>\n",
       "    </tr>\n",
       "    <tr>\n",
       "      <th>36</th>\n",
       "      <td>Sarvodaya Enclave</td>\n",
       "      <td>Chinese Restaurant</td>\n",
       "      <td>Indian Restaurant</td>\n",
       "      <td>Asian Restaurant</td>\n",
       "      <td>American Restaurant</td>\n",
       "      <td>Japanese Restaurant</td>\n",
       "    </tr>\n",
       "    <tr>\n",
       "      <th>37</th>\n",
       "      <td>Shahpur Jat</td>\n",
       "      <td>Indian Restaurant</td>\n",
       "      <td>Chinese Restaurant</td>\n",
       "      <td>Asian Restaurant</td>\n",
       "      <td>Italian Restaurant</td>\n",
       "      <td>Turkish Restaurant</td>\n",
       "    </tr>\n",
       "    <tr>\n",
       "      <th>38</th>\n",
       "      <td>Siri Fort</td>\n",
       "      <td>Indian Restaurant</td>\n",
       "      <td>Italian Restaurant</td>\n",
       "      <td>Chinese Restaurant</td>\n",
       "      <td>Australian Restaurant</td>\n",
       "      <td>Japanese Restaurant</td>\n",
       "    </tr>\n",
       "    <tr>\n",
       "      <th>39</th>\n",
       "      <td>South Extension</td>\n",
       "      <td>Indian Restaurant</td>\n",
       "      <td>Italian Restaurant</td>\n",
       "      <td>Chinese Restaurant</td>\n",
       "      <td>Japanese Restaurant</td>\n",
       "      <td>Asian Restaurant</td>\n",
       "    </tr>\n",
       "  </tbody>\n",
       "</table>\n",
       "</div>"
      ],
      "text/plain": [
       "          Neighborhood 1st Most Common Venue        2nd Most Common Venue  \\\n",
       "0            Alaknanda     Indian Restaurant           Chinese Restaurant   \n",
       "2    Chittaranjan Park     Indian Restaurant         Fast Food Restaurant   \n",
       "8           Green Park     Indian Restaurant           Chinese Restaurant   \n",
       "9        Gulmohar Park     Indian Restaurant           Chinese Restaurant   \n",
       "10           Hauz Khas     Indian Restaurant             Asian Restaurant   \n",
       "11   Hauz Khas Village     Indian Restaurant             Asian Restaurant   \n",
       "15            Jor Bagh     Indian Restaurant  Eastern European Restaurant   \n",
       "18      Khirki Village     Indian Restaurant           Chinese Restaurant   \n",
       "20         Lodi Colony     Indian Restaurant           Chinese Restaurant   \n",
       "22       Malviya Nagar     Indian Restaurant           Chinese Restaurant   \n",
       "24          Neeti Bagh     Indian Restaurant           Chinese Restaurant   \n",
       "26        Netaji Nagar     Indian Restaurant             Asian Restaurant   \n",
       "28     Nizamuddin West     Indian Restaurant           Italian Restaurant   \n",
       "30  Safdarjung Enclave     Indian Restaurant         Fast Food Restaurant   \n",
       "31         Sainik Farm     Indian Restaurant              Thai Restaurant   \n",
       "32               Saket     Indian Restaurant             Asian Restaurant   \n",
       "33        Sangam Vihar     Indian Restaurant           Chinese Restaurant   \n",
       "35      Sarojini Nagar     Indian Restaurant         Fast Food Restaurant   \n",
       "36   Sarvodaya Enclave    Chinese Restaurant            Indian Restaurant   \n",
       "37         Shahpur Jat     Indian Restaurant           Chinese Restaurant   \n",
       "38           Siri Fort     Indian Restaurant           Italian Restaurant   \n",
       "39     South Extension     Indian Restaurant           Italian Restaurant   \n",
       "\n",
       "            3rd Most Common Venue     4th Most Common Venue  \\\n",
       "0                Asian Restaurant      Fast Food Restaurant   \n",
       "2              Chinese Restaurant          Asian Restaurant   \n",
       "8              Italian Restaurant          Asian Restaurant   \n",
       "9        Mediterranean Restaurant        Italian Restaurant   \n",
       "10             Chinese Restaurant  Mediterranean Restaurant   \n",
       "11             Chinese Restaurant        Italian Restaurant   \n",
       "15             Chinese Restaurant       Japanese Restaurant   \n",
       "18               Asian Restaurant       American Restaurant   \n",
       "20             Italian Restaurant  Mediterranean Restaurant   \n",
       "22               Asian Restaurant       American Restaurant   \n",
       "24             Italian Restaurant         Korean Restaurant   \n",
       "26           Fast Food Restaurant        Chinese Restaurant   \n",
       "28             Chinese Restaurant      Fast Food Restaurant   \n",
       "30               Asian Restaurant        Italian Restaurant   \n",
       "31               Asian Restaurant        Falafel Restaurant   \n",
       "32             Chinese Restaurant       American Restaurant   \n",
       "33  Vegetarian / Vegan Restaurant       Dumpling Restaurant   \n",
       "35             Chinese Restaurant       Japanese Restaurant   \n",
       "36               Asian Restaurant       American Restaurant   \n",
       "37               Asian Restaurant        Italian Restaurant   \n",
       "38             Chinese Restaurant     Australian Restaurant   \n",
       "39             Chinese Restaurant       Japanese Restaurant   \n",
       "\n",
       "       5th Most Common Venue  \n",
       "0         Italian Restaurant  \n",
       "2         Italian Restaurant  \n",
       "8   Mediterranean Restaurant  \n",
       "9        Japanese Restaurant  \n",
       "10       Japanese Restaurant  \n",
       "11       American Restaurant  \n",
       "15      Fast Food Restaurant  \n",
       "18      Fast Food Restaurant  \n",
       "20       Japanese Restaurant  \n",
       "22      Fast Food Restaurant  \n",
       "24         French Restaurant  \n",
       "26   South Indian Restaurant  \n",
       "28        English Restaurant  \n",
       "30       Japanese Restaurant  \n",
       "31       Dumpling Restaurant  \n",
       "32      Fast Food Restaurant  \n",
       "33         French Restaurant  \n",
       "35        Seafood Restaurant  \n",
       "36       Japanese Restaurant  \n",
       "37        Turkish Restaurant  \n",
       "38       Japanese Restaurant  \n",
       "39          Asian Restaurant  "
      ]
     },
     "execution_count": 30,
     "metadata": {},
     "output_type": "execute_result"
    }
   ],
   "source": [
    "DelhiNW_merged.loc[DelhiNW_merged['Cluster Labels'] == 0, DelhiNW_merged.columns[[1] + list(range(5, DelhiNW_merged.shape[1]))]]"
   ]
  },
  {
   "cell_type": "code",
   "execution_count": 31,
   "metadata": {},
   "outputs": [
    {
     "data": {
      "text/html": [
       "<div>\n",
       "<style scoped>\n",
       "    .dataframe tbody tr th:only-of-type {\n",
       "        vertical-align: middle;\n",
       "    }\n",
       "\n",
       "    .dataframe tbody tr th {\n",
       "        vertical-align: top;\n",
       "    }\n",
       "\n",
       "    .dataframe thead th {\n",
       "        text-align: right;\n",
       "    }\n",
       "</style>\n",
       "<table border=\"1\" class=\"dataframe\">\n",
       "  <thead>\n",
       "    <tr style=\"text-align: right;\">\n",
       "      <th></th>\n",
       "      <th>Neighborhood</th>\n",
       "      <th>1st Most Common Venue</th>\n",
       "      <th>2nd Most Common Venue</th>\n",
       "      <th>3rd Most Common Venue</th>\n",
       "      <th>4th Most Common Venue</th>\n",
       "      <th>5th Most Common Venue</th>\n",
       "    </tr>\n",
       "  </thead>\n",
       "  <tbody>\n",
       "    <tr>\n",
       "      <th>17</th>\n",
       "      <td>Khanpur</td>\n",
       "      <td>Thai Restaurant</td>\n",
       "      <td>Vegetarian / Vegan Restaurant</td>\n",
       "      <td>Comfort Food Restaurant</td>\n",
       "      <td>French Restaurant</td>\n",
       "      <td>Fast Food Restaurant</td>\n",
       "    </tr>\n",
       "  </tbody>\n",
       "</table>\n",
       "</div>"
      ],
      "text/plain": [
       "   Neighborhood 1st Most Common Venue          2nd Most Common Venue  \\\n",
       "17      Khanpur       Thai Restaurant  Vegetarian / Vegan Restaurant   \n",
       "\n",
       "      3rd Most Common Venue 4th Most Common Venue 5th Most Common Venue  \n",
       "17  Comfort Food Restaurant     French Restaurant  Fast Food Restaurant  "
      ]
     },
     "execution_count": 31,
     "metadata": {},
     "output_type": "execute_result"
    }
   ],
   "source": [
    "DelhiNW_merged.loc[DelhiNW_merged['Cluster Labels'] == 1, DelhiNW_merged.columns[[1] + list(range(5, DelhiNW_merged.shape[1]))]]"
   ]
  },
  {
   "cell_type": "code",
   "execution_count": 33,
   "metadata": {},
   "outputs": [
    {
     "data": {
      "text/html": [
       "<div>\n",
       "<style scoped>\n",
       "    .dataframe tbody tr th:only-of-type {\n",
       "        vertical-align: middle;\n",
       "    }\n",
       "\n",
       "    .dataframe tbody tr th {\n",
       "        vertical-align: top;\n",
       "    }\n",
       "\n",
       "    .dataframe thead th {\n",
       "        text-align: right;\n",
       "    }\n",
       "</style>\n",
       "<table border=\"1\" class=\"dataframe\">\n",
       "  <thead>\n",
       "    <tr style=\"text-align: right;\">\n",
       "      <th></th>\n",
       "      <th>Neighborhood</th>\n",
       "      <th>1st Most Common Venue</th>\n",
       "      <th>2nd Most Common Venue</th>\n",
       "      <th>3rd Most Common Venue</th>\n",
       "      <th>4th Most Common Venue</th>\n",
       "      <th>5th Most Common Venue</th>\n",
       "    </tr>\n",
       "  </thead>\n",
       "  <tbody>\n",
       "    <tr>\n",
       "      <th>14</th>\n",
       "      <td>Jasola</td>\n",
       "      <td>Indian Restaurant</td>\n",
       "      <td>Vegetarian / Vegan Restaurant</td>\n",
       "      <td>Dumpling Restaurant</td>\n",
       "      <td>French Restaurant</td>\n",
       "      <td>Fast Food Restaurant</td>\n",
       "    </tr>\n",
       "    <tr>\n",
       "      <th>34</th>\n",
       "      <td>Sarita Vihar</td>\n",
       "      <td>Indian Restaurant</td>\n",
       "      <td>Vegetarian / Vegan Restaurant</td>\n",
       "      <td>Dumpling Restaurant</td>\n",
       "      <td>French Restaurant</td>\n",
       "      <td>Fast Food Restaurant</td>\n",
       "    </tr>\n",
       "  </tbody>\n",
       "</table>\n",
       "</div>"
      ],
      "text/plain": [
       "    Neighborhood 1st Most Common Venue          2nd Most Common Venue  \\\n",
       "14        Jasola     Indian Restaurant  Vegetarian / Vegan Restaurant   \n",
       "34  Sarita Vihar     Indian Restaurant  Vegetarian / Vegan Restaurant   \n",
       "\n",
       "   3rd Most Common Venue 4th Most Common Venue 5th Most Common Venue  \n",
       "14   Dumpling Restaurant     French Restaurant  Fast Food Restaurant  \n",
       "34   Dumpling Restaurant     French Restaurant  Fast Food Restaurant  "
      ]
     },
     "execution_count": 33,
     "metadata": {},
     "output_type": "execute_result"
    }
   ],
   "source": [
    "DelhiNW_merged.loc[DelhiNW_merged['Cluster Labels'] == 2, DelhiNW_merged.columns[[1] + list(range(5, DelhiNW_merged.shape[1]))]]"
   ]
  },
  {
   "cell_type": "code",
   "execution_count": 34,
   "metadata": {},
   "outputs": [
    {
     "data": {
      "text/html": [
       "<div>\n",
       "<style scoped>\n",
       "    .dataframe tbody tr th:only-of-type {\n",
       "        vertical-align: middle;\n",
       "    }\n",
       "\n",
       "    .dataframe tbody tr th {\n",
       "        vertical-align: top;\n",
       "    }\n",
       "\n",
       "    .dataframe thead th {\n",
       "        text-align: right;\n",
       "    }\n",
       "</style>\n",
       "<table border=\"1\" class=\"dataframe\">\n",
       "  <thead>\n",
       "    <tr style=\"text-align: right;\">\n",
       "      <th></th>\n",
       "      <th>Neighborhood</th>\n",
       "      <th>1st Most Common Venue</th>\n",
       "      <th>2nd Most Common Venue</th>\n",
       "      <th>3rd Most Common Venue</th>\n",
       "      <th>4th Most Common Venue</th>\n",
       "      <th>5th Most Common Venue</th>\n",
       "    </tr>\n",
       "  </thead>\n",
       "  <tbody>\n",
       "    <tr>\n",
       "      <th>1</th>\n",
       "      <td>Chhattarpur</td>\n",
       "      <td>Indian Restaurant</td>\n",
       "      <td>Italian Restaurant</td>\n",
       "      <td>Fast Food Restaurant</td>\n",
       "      <td>Japanese Restaurant</td>\n",
       "      <td>Thai Restaurant</td>\n",
       "    </tr>\n",
       "    <tr>\n",
       "      <th>3</th>\n",
       "      <td>Dayanand Colony</td>\n",
       "      <td>Indian Restaurant</td>\n",
       "      <td>Fast Food Restaurant</td>\n",
       "      <td>Italian Restaurant</td>\n",
       "      <td>Chinese Restaurant</td>\n",
       "      <td>French Restaurant</td>\n",
       "    </tr>\n",
       "    <tr>\n",
       "      <th>4</th>\n",
       "      <td>Defence Colony</td>\n",
       "      <td>Indian Restaurant</td>\n",
       "      <td>Italian Restaurant</td>\n",
       "      <td>Fast Food Restaurant</td>\n",
       "      <td>Chinese Restaurant</td>\n",
       "      <td>Japanese Restaurant</td>\n",
       "    </tr>\n",
       "    <tr>\n",
       "      <th>5</th>\n",
       "      <td>East of Kailash</td>\n",
       "      <td>Indian Restaurant</td>\n",
       "      <td>Fast Food Restaurant</td>\n",
       "      <td>Italian Restaurant</td>\n",
       "      <td>Chinese Restaurant</td>\n",
       "      <td>French Restaurant</td>\n",
       "    </tr>\n",
       "    <tr>\n",
       "      <th>6</th>\n",
       "      <td>Friends Colony</td>\n",
       "      <td>Fast Food Restaurant</td>\n",
       "      <td>Indian Restaurant</td>\n",
       "      <td>Vegetarian / Vegan Restaurant</td>\n",
       "      <td>Middle Eastern Restaurant</td>\n",
       "      <td>Chinese Restaurant</td>\n",
       "    </tr>\n",
       "    <tr>\n",
       "      <th>7</th>\n",
       "      <td>Greater Kailash</td>\n",
       "      <td>Indian Restaurant</td>\n",
       "      <td>Italian Restaurant</td>\n",
       "      <td>Fast Food Restaurant</td>\n",
       "      <td>Chinese Restaurant</td>\n",
       "      <td>Australian Restaurant</td>\n",
       "    </tr>\n",
       "    <tr>\n",
       "      <th>13</th>\n",
       "      <td>Jangpura</td>\n",
       "      <td>Indian Restaurant</td>\n",
       "      <td>Italian Restaurant</td>\n",
       "      <td>Fast Food Restaurant</td>\n",
       "      <td>Chinese Restaurant</td>\n",
       "      <td>Japanese Restaurant</td>\n",
       "    </tr>\n",
       "    <tr>\n",
       "      <th>16</th>\n",
       "      <td>Kailash Colony</td>\n",
       "      <td>Indian Restaurant</td>\n",
       "      <td>Fast Food Restaurant</td>\n",
       "      <td>Italian Restaurant</td>\n",
       "      <td>Chinese Restaurant</td>\n",
       "      <td>French Restaurant</td>\n",
       "    </tr>\n",
       "    <tr>\n",
       "      <th>19</th>\n",
       "      <td>Lajpat Nagar</td>\n",
       "      <td>Indian Restaurant</td>\n",
       "      <td>Fast Food Restaurant</td>\n",
       "      <td>Italian Restaurant</td>\n",
       "      <td>Chinese Restaurant</td>\n",
       "      <td>Bengali Restaurant</td>\n",
       "    </tr>\n",
       "    <tr>\n",
       "      <th>21</th>\n",
       "      <td>Maharani Bagh</td>\n",
       "      <td>Indian Restaurant</td>\n",
       "      <td>Chinese Restaurant</td>\n",
       "      <td>Fast Food Restaurant</td>\n",
       "      <td>Middle Eastern Restaurant</td>\n",
       "      <td>Italian Restaurant</td>\n",
       "    </tr>\n",
       "    <tr>\n",
       "      <th>25</th>\n",
       "      <td>Nehru Place</td>\n",
       "      <td>Indian Restaurant</td>\n",
       "      <td>Fast Food Restaurant</td>\n",
       "      <td>Asian Restaurant</td>\n",
       "      <td>Chinese Restaurant</td>\n",
       "      <td>Thai Restaurant</td>\n",
       "    </tr>\n",
       "    <tr>\n",
       "      <th>27</th>\n",
       "      <td>New Friends Colony</td>\n",
       "      <td>Indian Restaurant</td>\n",
       "      <td>Fast Food Restaurant</td>\n",
       "      <td>Chinese Restaurant</td>\n",
       "      <td>Middle Eastern Restaurant</td>\n",
       "      <td>Italian Restaurant</td>\n",
       "    </tr>\n",
       "    <tr>\n",
       "      <th>29</th>\n",
       "      <td>Okhla</td>\n",
       "      <td>Fast Food Restaurant</td>\n",
       "      <td>Indian Restaurant</td>\n",
       "      <td>Chinese Restaurant</td>\n",
       "      <td>Vegetarian / Vegan Restaurant</td>\n",
       "      <td>Dumpling Restaurant</td>\n",
       "    </tr>\n",
       "    <tr>\n",
       "      <th>40</th>\n",
       "      <td>Sriniwaspuri</td>\n",
       "      <td>Fast Food Restaurant</td>\n",
       "      <td>Indian Restaurant</td>\n",
       "      <td>Middle Eastern Restaurant</td>\n",
       "      <td>Chinese Restaurant</td>\n",
       "      <td>Italian Restaurant</td>\n",
       "    </tr>\n",
       "  </tbody>\n",
       "</table>\n",
       "</div>"
      ],
      "text/plain": [
       "          Neighborhood 1st Most Common Venue 2nd Most Common Venue  \\\n",
       "1          Chhattarpur     Indian Restaurant    Italian Restaurant   \n",
       "3      Dayanand Colony     Indian Restaurant  Fast Food Restaurant   \n",
       "4       Defence Colony     Indian Restaurant    Italian Restaurant   \n",
       "5      East of Kailash     Indian Restaurant  Fast Food Restaurant   \n",
       "6       Friends Colony  Fast Food Restaurant     Indian Restaurant   \n",
       "7      Greater Kailash     Indian Restaurant    Italian Restaurant   \n",
       "13            Jangpura     Indian Restaurant    Italian Restaurant   \n",
       "16      Kailash Colony     Indian Restaurant  Fast Food Restaurant   \n",
       "19        Lajpat Nagar     Indian Restaurant  Fast Food Restaurant   \n",
       "21       Maharani Bagh     Indian Restaurant    Chinese Restaurant   \n",
       "25         Nehru Place     Indian Restaurant  Fast Food Restaurant   \n",
       "27  New Friends Colony     Indian Restaurant  Fast Food Restaurant   \n",
       "29               Okhla  Fast Food Restaurant     Indian Restaurant   \n",
       "40        Sriniwaspuri  Fast Food Restaurant     Indian Restaurant   \n",
       "\n",
       "            3rd Most Common Venue          4th Most Common Venue  \\\n",
       "1            Fast Food Restaurant            Japanese Restaurant   \n",
       "3              Italian Restaurant             Chinese Restaurant   \n",
       "4            Fast Food Restaurant             Chinese Restaurant   \n",
       "5              Italian Restaurant             Chinese Restaurant   \n",
       "6   Vegetarian / Vegan Restaurant      Middle Eastern Restaurant   \n",
       "7            Fast Food Restaurant             Chinese Restaurant   \n",
       "13           Fast Food Restaurant             Chinese Restaurant   \n",
       "16             Italian Restaurant             Chinese Restaurant   \n",
       "19             Italian Restaurant             Chinese Restaurant   \n",
       "21           Fast Food Restaurant      Middle Eastern Restaurant   \n",
       "25               Asian Restaurant             Chinese Restaurant   \n",
       "27             Chinese Restaurant      Middle Eastern Restaurant   \n",
       "29             Chinese Restaurant  Vegetarian / Vegan Restaurant   \n",
       "40      Middle Eastern Restaurant             Chinese Restaurant   \n",
       "\n",
       "    5th Most Common Venue  \n",
       "1         Thai Restaurant  \n",
       "3       French Restaurant  \n",
       "4     Japanese Restaurant  \n",
       "5       French Restaurant  \n",
       "6      Chinese Restaurant  \n",
       "7   Australian Restaurant  \n",
       "13    Japanese Restaurant  \n",
       "16      French Restaurant  \n",
       "19     Bengali Restaurant  \n",
       "21     Italian Restaurant  \n",
       "25        Thai Restaurant  \n",
       "27     Italian Restaurant  \n",
       "29    Dumpling Restaurant  \n",
       "40     Italian Restaurant  "
      ]
     },
     "execution_count": 34,
     "metadata": {},
     "output_type": "execute_result"
    }
   ],
   "source": [
    "DelhiNW_merged.loc[DelhiNW_merged['Cluster Labels'] == 3, DelhiNW_merged.columns[[1] + list(range(5, DelhiNW_merged.shape[1]))]]"
   ]
  },
  {
   "cell_type": "code",
   "execution_count": 35,
   "metadata": {},
   "outputs": [
    {
     "data": {
      "text/html": [
       "<div>\n",
       "<style scoped>\n",
       "    .dataframe tbody tr th:only-of-type {\n",
       "        vertical-align: middle;\n",
       "    }\n",
       "\n",
       "    .dataframe tbody tr th {\n",
       "        vertical-align: top;\n",
       "    }\n",
       "\n",
       "    .dataframe thead th {\n",
       "        text-align: right;\n",
       "    }\n",
       "</style>\n",
       "<table border=\"1\" class=\"dataframe\">\n",
       "  <thead>\n",
       "    <tr style=\"text-align: right;\">\n",
       "      <th></th>\n",
       "      <th>Neighborhood</th>\n",
       "      <th>1st Most Common Venue</th>\n",
       "      <th>2nd Most Common Venue</th>\n",
       "      <th>3rd Most Common Venue</th>\n",
       "      <th>4th Most Common Venue</th>\n",
       "      <th>5th Most Common Venue</th>\n",
       "    </tr>\n",
       "  </thead>\n",
       "  <tbody>\n",
       "    <tr>\n",
       "      <th>23</th>\n",
       "      <td>Mehrauli</td>\n",
       "      <td>Thai Restaurant</td>\n",
       "      <td>Italian Restaurant</td>\n",
       "      <td>Japanese Restaurant</td>\n",
       "      <td>Indian Restaurant</td>\n",
       "      <td>Asian Restaurant</td>\n",
       "    </tr>\n",
       "  </tbody>\n",
       "</table>\n",
       "</div>"
      ],
      "text/plain": [
       "   Neighborhood 1st Most Common Venue 2nd Most Common Venue  \\\n",
       "23     Mehrauli       Thai Restaurant    Italian Restaurant   \n",
       "\n",
       "   3rd Most Common Venue 4th Most Common Venue 5th Most Common Venue  \n",
       "23   Japanese Restaurant     Indian Restaurant      Asian Restaurant  "
      ]
     },
     "execution_count": 35,
     "metadata": {},
     "output_type": "execute_result"
    }
   ],
   "source": [
    "DelhiNW_merged.loc[DelhiNW_merged['Cluster Labels'] == 4, DelhiNW_merged.columns[[1] + list(range(5, DelhiNW_merged.shape[1]))]]"
   ]
  },
  {
   "cell_type": "code",
   "execution_count": null,
   "metadata": {},
   "outputs": [],
   "source": []
  }
 ],
 "metadata": {
  "kernelspec": {
   "display_name": "Python",
   "language": "python",
   "name": "conda-env-python-py"
  },
  "language_info": {
   "codemirror_mode": {
    "name": "ipython",
    "version": 3
   },
   "file_extension": ".py",
   "mimetype": "text/x-python",
   "name": "python",
   "nbconvert_exporter": "python",
   "pygments_lexer": "ipython3",
   "version": "3.6.11"
  }
 },
 "nbformat": 4,
 "nbformat_minor": 4
}
